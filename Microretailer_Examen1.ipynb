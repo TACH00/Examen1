{
  "nbformat": 4,
  "nbformat_minor": 0,
  "metadata": {
    "colab": {
      "provenance": [],
      "authorship_tag": "ABX9TyPmd+tyETrWyJomhD1X7hOG",
      "include_colab_link": true
    },
    "kernelspec": {
      "name": "python3",
      "display_name": "Python 3"
    },
    "language_info": {
      "name": "python"
    }
  },
  "cells": [
    {
      "cell_type": "markdown",
      "metadata": {
        "id": "view-in-github",
        "colab_type": "text"
      },
      "source": [
        "<a href=\"https://colab.research.google.com/github/TACH00/Examen1/blob/main/Microretailer_Examen1.ipynb\" target=\"_parent\"><img src=\"https://colab.research.google.com/assets/colab-badge.svg\" alt=\"Open In Colab\"/></a>"
      ]
    },
    {
      "cell_type": "code",
      "execution_count": null,
      "metadata": {
        "id": "nThGmu5v9p3b"
      },
      "outputs": [],
      "source": [
        "%pip install funpymodeling"
      ]
    },
    {
      "cell_type": "code",
      "source": [
        "#Importamos librerias requeridas\n",
        "import pandas as pd\n",
        "import numpy as np\n",
        "import matplotlib.pyplot as plt\n",
        "from funpymodeling.exploratory import freq_tbl"
      ],
      "metadata": {
        "id": "32ufw0u09wF0"
      },
      "execution_count": 2,
      "outputs": []
    },
    {
      "cell_type": "code",
      "source": [
        "#Cargar archivo csv desde equipo\n",
        "from google.colab import files\n",
        "files.upload()"
      ],
      "metadata": {
        "id": "4Rh_qXxT9yQS"
      },
      "execution_count": null,
      "outputs": []
    },
    {
      "cell_type": "code",
      "source": [
        "#Convertir en Dataframe\n",
        "df=pd.read_excel('microretailer_mit_lift_lab.xlsx')\n",
        "df.head()"
      ],
      "metadata": {
        "id": "XQC2TxHp-A7z",
        "colab": {
          "base_uri": "https://localhost:8080/",
          "height": 525
        },
        "outputId": "eae961e7-c204-4502-ed1c-b3f9071e6340"
      },
      "execution_count": 14,
      "outputs": [
        {
          "output_type": "execute_result",
          "data": {
            "text/plain": [
              "                             _record_id             _title  \\\n",
              "0  dff2998e-af74-4de6-8efd-488aca24e67b  November 12, 2022   \n",
              "1  c596412f-4fc2-4983-acba-d9565859e42f  November 12, 2022   \n",
              "2  5bb632b3-41b5-4fb6-a817-b564e8b45a48  November 12, 2022   \n",
              "3  6774a0f6-bab4-4a58-bf94-95ad0b7cb438  November 12, 2022   \n",
              "4  6cc637fa-3d54-48c7-9499-6de13d0a26aa  November 12, 2022   \n",
              "\n",
              "        _server_updated_at           _updated_by  \\\n",
              "0  2022-11-12 22:15:10 UTC  Salomon Abdala Perez   \n",
              "1  2022-11-12 22:15:09 UTC  Salomon Abdala Perez   \n",
              "2  2022-11-12 22:15:09 UTC  Salomon Abdala Perez   \n",
              "3  2022-11-12 22:15:09 UTC  Salomon Abdala Perez   \n",
              "4  2022-11-12 22:15:08 UTC  Salomon Abdala Perez   \n",
              "\n",
              "                                       _geometry  _latitude  _longitude  \\\n",
              "0   SRID=4326;POINT(-98.233822273 19.0535362706)  19.053536  -98.233822   \n",
              "1  SRID=4326;POINT(-98.2341421351 19.0535610353)  19.053561  -98.234142   \n",
              "2    SRID=4326;POINT(-98.232299887 19.058654656)  19.058655  -98.232300   \n",
              "3  SRID=4326;POINT(-98.2331576513 19.0592929035)  19.059293  -98.233158   \n",
              "4  SRID=4326;POINT(-98.2338639604 19.0595846029)  19.059585  -98.233864   \n",
              "\n",
              "           228_store_name 229_store_picture               232_type_of_store  \\\n",
              "0     Eugene’s Compostura           1 Photo                          Tailor   \n",
              "1  Frutas y verduras Angy           1 Photo  Grocery store (aka. nanostore)   \n",
              "2               Libélula            1 Photo  Grocery store (aka. nanostore)   \n",
              "3             Quality fix           1 Photo  Grocery store (aka. nanostore)   \n",
              "4    Artesanías Los Pinos           1 Photo  Grocery store (aka. nanostore)   \n",
              "\n",
              "   ... 261_technology_organization 262_technology_serve_customers  \\\n",
              "0  ...                         NaN                            NaN   \n",
              "1  ...                         NaN                            NaN   \n",
              "2  ...                         NaN                            NaN   \n",
              "3  ...                         NaN                            NaN   \n",
              "4  ...                         NaN                            NaN   \n",
              "\n",
              "  263_technology_secure_sales  264_technology_budget  \\\n",
              "0                         NaN                    NaN   \n",
              "1                         NaN                    NaN   \n",
              "2                         NaN                    NaN   \n",
              "3                         NaN                    NaN   \n",
              "4                         NaN                    NaN   \n",
              "\n",
              "   267_technology_investment_customer_preferences  \\\n",
              "0                                             NaN   \n",
              "1                                             NaN   \n",
              "2                                             NaN   \n",
              "3                                             NaN   \n",
              "4                                             NaN   \n",
              "\n",
              "  234_willingness_participate_workshop  318_shopkeeper_name  \\\n",
              "0                                   no                  NaN   \n",
              "1                                   no                  NaN   \n",
              "2                                   no                  NaN   \n",
              "3                                   no                  NaN   \n",
              "4                                   no                  NaN   \n",
              "\n",
              "  319_shopkeepers_last_name 236_whatsapp 235_email  \n",
              "0                       NaN          NaN       NaN  \n",
              "1                       NaN          NaN       NaN  \n",
              "2                       NaN          NaN       NaN  \n",
              "3                       NaN          NaN       NaN  \n",
              "4                       NaN          NaN       NaN  \n",
              "\n",
              "[5 rows x 106 columns]"
            ],
            "text/html": [
              "\n",
              "  <div id=\"df-1d619715-3ff5-4150-ab88-176344766026\">\n",
              "    <div class=\"colab-df-container\">\n",
              "      <div>\n",
              "<style scoped>\n",
              "    .dataframe tbody tr th:only-of-type {\n",
              "        vertical-align: middle;\n",
              "    }\n",
              "\n",
              "    .dataframe tbody tr th {\n",
              "        vertical-align: top;\n",
              "    }\n",
              "\n",
              "    .dataframe thead th {\n",
              "        text-align: right;\n",
              "    }\n",
              "</style>\n",
              "<table border=\"1\" class=\"dataframe\">\n",
              "  <thead>\n",
              "    <tr style=\"text-align: right;\">\n",
              "      <th></th>\n",
              "      <th>_record_id</th>\n",
              "      <th>_title</th>\n",
              "      <th>_server_updated_at</th>\n",
              "      <th>_updated_by</th>\n",
              "      <th>_geometry</th>\n",
              "      <th>_latitude</th>\n",
              "      <th>_longitude</th>\n",
              "      <th>228_store_name</th>\n",
              "      <th>229_store_picture</th>\n",
              "      <th>232_type_of_store</th>\n",
              "      <th>...</th>\n",
              "      <th>261_technology_organization</th>\n",
              "      <th>262_technology_serve_customers</th>\n",
              "      <th>263_technology_secure_sales</th>\n",
              "      <th>264_technology_budget</th>\n",
              "      <th>267_technology_investment_customer_preferences</th>\n",
              "      <th>234_willingness_participate_workshop</th>\n",
              "      <th>318_shopkeeper_name</th>\n",
              "      <th>319_shopkeepers_last_name</th>\n",
              "      <th>236_whatsapp</th>\n",
              "      <th>235_email</th>\n",
              "    </tr>\n",
              "  </thead>\n",
              "  <tbody>\n",
              "    <tr>\n",
              "      <th>0</th>\n",
              "      <td>dff2998e-af74-4de6-8efd-488aca24e67b</td>\n",
              "      <td>November 12, 2022</td>\n",
              "      <td>2022-11-12 22:15:10 UTC</td>\n",
              "      <td>Salomon Abdala Perez</td>\n",
              "      <td>SRID=4326;POINT(-98.233822273 19.0535362706)</td>\n",
              "      <td>19.053536</td>\n",
              "      <td>-98.233822</td>\n",
              "      <td>Eugene’s Compostura</td>\n",
              "      <td>1 Photo</td>\n",
              "      <td>Tailor</td>\n",
              "      <td>...</td>\n",
              "      <td>NaN</td>\n",
              "      <td>NaN</td>\n",
              "      <td>NaN</td>\n",
              "      <td>NaN</td>\n",
              "      <td>NaN</td>\n",
              "      <td>no</td>\n",
              "      <td>NaN</td>\n",
              "      <td>NaN</td>\n",
              "      <td>NaN</td>\n",
              "      <td>NaN</td>\n",
              "    </tr>\n",
              "    <tr>\n",
              "      <th>1</th>\n",
              "      <td>c596412f-4fc2-4983-acba-d9565859e42f</td>\n",
              "      <td>November 12, 2022</td>\n",
              "      <td>2022-11-12 22:15:09 UTC</td>\n",
              "      <td>Salomon Abdala Perez</td>\n",
              "      <td>SRID=4326;POINT(-98.2341421351 19.0535610353)</td>\n",
              "      <td>19.053561</td>\n",
              "      <td>-98.234142</td>\n",
              "      <td>Frutas y verduras Angy</td>\n",
              "      <td>1 Photo</td>\n",
              "      <td>Grocery store (aka. nanostore)</td>\n",
              "      <td>...</td>\n",
              "      <td>NaN</td>\n",
              "      <td>NaN</td>\n",
              "      <td>NaN</td>\n",
              "      <td>NaN</td>\n",
              "      <td>NaN</td>\n",
              "      <td>no</td>\n",
              "      <td>NaN</td>\n",
              "      <td>NaN</td>\n",
              "      <td>NaN</td>\n",
              "      <td>NaN</td>\n",
              "    </tr>\n",
              "    <tr>\n",
              "      <th>2</th>\n",
              "      <td>5bb632b3-41b5-4fb6-a817-b564e8b45a48</td>\n",
              "      <td>November 12, 2022</td>\n",
              "      <td>2022-11-12 22:15:09 UTC</td>\n",
              "      <td>Salomon Abdala Perez</td>\n",
              "      <td>SRID=4326;POINT(-98.232299887 19.058654656)</td>\n",
              "      <td>19.058655</td>\n",
              "      <td>-98.232300</td>\n",
              "      <td>Libélula</td>\n",
              "      <td>1 Photo</td>\n",
              "      <td>Grocery store (aka. nanostore)</td>\n",
              "      <td>...</td>\n",
              "      <td>NaN</td>\n",
              "      <td>NaN</td>\n",
              "      <td>NaN</td>\n",
              "      <td>NaN</td>\n",
              "      <td>NaN</td>\n",
              "      <td>no</td>\n",
              "      <td>NaN</td>\n",
              "      <td>NaN</td>\n",
              "      <td>NaN</td>\n",
              "      <td>NaN</td>\n",
              "    </tr>\n",
              "    <tr>\n",
              "      <th>3</th>\n",
              "      <td>6774a0f6-bab4-4a58-bf94-95ad0b7cb438</td>\n",
              "      <td>November 12, 2022</td>\n",
              "      <td>2022-11-12 22:15:09 UTC</td>\n",
              "      <td>Salomon Abdala Perez</td>\n",
              "      <td>SRID=4326;POINT(-98.2331576513 19.0592929035)</td>\n",
              "      <td>19.059293</td>\n",
              "      <td>-98.233158</td>\n",
              "      <td>Quality fix</td>\n",
              "      <td>1 Photo</td>\n",
              "      <td>Grocery store (aka. nanostore)</td>\n",
              "      <td>...</td>\n",
              "      <td>NaN</td>\n",
              "      <td>NaN</td>\n",
              "      <td>NaN</td>\n",
              "      <td>NaN</td>\n",
              "      <td>NaN</td>\n",
              "      <td>no</td>\n",
              "      <td>NaN</td>\n",
              "      <td>NaN</td>\n",
              "      <td>NaN</td>\n",
              "      <td>NaN</td>\n",
              "    </tr>\n",
              "    <tr>\n",
              "      <th>4</th>\n",
              "      <td>6cc637fa-3d54-48c7-9499-6de13d0a26aa</td>\n",
              "      <td>November 12, 2022</td>\n",
              "      <td>2022-11-12 22:15:08 UTC</td>\n",
              "      <td>Salomon Abdala Perez</td>\n",
              "      <td>SRID=4326;POINT(-98.2338639604 19.0595846029)</td>\n",
              "      <td>19.059585</td>\n",
              "      <td>-98.233864</td>\n",
              "      <td>Artesanías Los Pinos</td>\n",
              "      <td>1 Photo</td>\n",
              "      <td>Grocery store (aka. nanostore)</td>\n",
              "      <td>...</td>\n",
              "      <td>NaN</td>\n",
              "      <td>NaN</td>\n",
              "      <td>NaN</td>\n",
              "      <td>NaN</td>\n",
              "      <td>NaN</td>\n",
              "      <td>no</td>\n",
              "      <td>NaN</td>\n",
              "      <td>NaN</td>\n",
              "      <td>NaN</td>\n",
              "      <td>NaN</td>\n",
              "    </tr>\n",
              "  </tbody>\n",
              "</table>\n",
              "<p>5 rows × 106 columns</p>\n",
              "</div>\n",
              "      <button class=\"colab-df-convert\" onclick=\"convertToInteractive('df-1d619715-3ff5-4150-ab88-176344766026')\"\n",
              "              title=\"Convert this dataframe to an interactive table.\"\n",
              "              style=\"display:none;\">\n",
              "        \n",
              "  <svg xmlns=\"http://www.w3.org/2000/svg\" height=\"24px\"viewBox=\"0 0 24 24\"\n",
              "       width=\"24px\">\n",
              "    <path d=\"M0 0h24v24H0V0z\" fill=\"none\"/>\n",
              "    <path d=\"M18.56 5.44l.94 2.06.94-2.06 2.06-.94-2.06-.94-.94-2.06-.94 2.06-2.06.94zm-11 1L8.5 8.5l.94-2.06 2.06-.94-2.06-.94L8.5 2.5l-.94 2.06-2.06.94zm10 10l.94 2.06.94-2.06 2.06-.94-2.06-.94-.94-2.06-.94 2.06-2.06.94z\"/><path d=\"M17.41 7.96l-1.37-1.37c-.4-.4-.92-.59-1.43-.59-.52 0-1.04.2-1.43.59L10.3 9.45l-7.72 7.72c-.78.78-.78 2.05 0 2.83L4 21.41c.39.39.9.59 1.41.59.51 0 1.02-.2 1.41-.59l7.78-7.78 2.81-2.81c.8-.78.8-2.07 0-2.86zM5.41 20L4 18.59l7.72-7.72 1.47 1.35L5.41 20z\"/>\n",
              "  </svg>\n",
              "      </button>\n",
              "      \n",
              "  <style>\n",
              "    .colab-df-container {\n",
              "      display:flex;\n",
              "      flex-wrap:wrap;\n",
              "      gap: 12px;\n",
              "    }\n",
              "\n",
              "    .colab-df-convert {\n",
              "      background-color: #E8F0FE;\n",
              "      border: none;\n",
              "      border-radius: 50%;\n",
              "      cursor: pointer;\n",
              "      display: none;\n",
              "      fill: #1967D2;\n",
              "      height: 32px;\n",
              "      padding: 0 0 0 0;\n",
              "      width: 32px;\n",
              "    }\n",
              "\n",
              "    .colab-df-convert:hover {\n",
              "      background-color: #E2EBFA;\n",
              "      box-shadow: 0px 1px 2px rgba(60, 64, 67, 0.3), 0px 1px 3px 1px rgba(60, 64, 67, 0.15);\n",
              "      fill: #174EA6;\n",
              "    }\n",
              "\n",
              "    [theme=dark] .colab-df-convert {\n",
              "      background-color: #3B4455;\n",
              "      fill: #D2E3FC;\n",
              "    }\n",
              "\n",
              "    [theme=dark] .colab-df-convert:hover {\n",
              "      background-color: #434B5C;\n",
              "      box-shadow: 0px 1px 3px 1px rgba(0, 0, 0, 0.15);\n",
              "      filter: drop-shadow(0px 1px 2px rgba(0, 0, 0, 0.3));\n",
              "      fill: #FFFFFF;\n",
              "    }\n",
              "  </style>\n",
              "\n",
              "      <script>\n",
              "        const buttonEl =\n",
              "          document.querySelector('#df-1d619715-3ff5-4150-ab88-176344766026 button.colab-df-convert');\n",
              "        buttonEl.style.display =\n",
              "          google.colab.kernel.accessAllowed ? 'block' : 'none';\n",
              "\n",
              "        async function convertToInteractive(key) {\n",
              "          const element = document.querySelector('#df-1d619715-3ff5-4150-ab88-176344766026');\n",
              "          const dataTable =\n",
              "            await google.colab.kernel.invokeFunction('convertToInteractive',\n",
              "                                                     [key], {});\n",
              "          if (!dataTable) return;\n",
              "\n",
              "          const docLinkHtml = 'Like what you see? Visit the ' +\n",
              "            '<a target=\"_blank\" href=https://colab.research.google.com/notebooks/data_table.ipynb>data table notebook</a>'\n",
              "            + ' to learn more about interactive tables.';\n",
              "          element.innerHTML = '';\n",
              "          dataTable['output_type'] = 'display_data';\n",
              "          await google.colab.output.renderOutput(dataTable, element);\n",
              "          const docLink = document.createElement('div');\n",
              "          docLink.innerHTML = docLinkHtml;\n",
              "          element.appendChild(docLink);\n",
              "        }\n",
              "      </script>\n",
              "    </div>\n",
              "  </div>\n",
              "  "
            ]
          },
          "metadata": {},
          "execution_count": 14
        }
      ]
    },
    {
      "cell_type": "code",
      "source": [
        "#Verificamos información del DataFrame para reconocer las variables que son cuantitativas y cualitativas\n",
        "df.info()"
      ],
      "metadata": {
        "colab": {
          "base_uri": "https://localhost:8080/"
        },
        "id": "gxImxtRB_ZdM",
        "outputId": "b6f6a823-1914-405b-907e-4754456e6cb9"
      },
      "execution_count": 10,
      "outputs": [
        {
          "output_type": "stream",
          "name": "stdout",
          "text": [
            "<class 'pandas.core.frame.DataFrame'>\n",
            "RangeIndex: 171 entries, 0 to 170\n",
            "Columns: 106 entries, _record_id to 235_email\n",
            "dtypes: float64(23), int64(2), object(81)\n",
            "memory usage: 141.7+ KB\n"
          ]
        }
      ]
    },
    {
      "cell_type": "markdown",
      "source": [
        "Dado que las entradas son demasiadas no podemos visualizar información uno a uno para saber de que tipo son, al menos no tan sencillamente. Ahora, tendré que ir visualizando columna a columna dividiendo el df completo en 5 o 6 que me muestre y despues concatenarlas"
      ],
      "metadata": {
        "id": "kK517BcC_grQ"
      }
    },
    {
      "cell_type": "code",
      "source": [
        "MR1=df.iloc[:,0:40]  #columnas consecutivas \n",
        "MR1"
      ],
      "metadata": {
        "id": "74NjEXdhAUWu"
      },
      "execution_count": null,
      "outputs": []
    },
    {
      "cell_type": "code",
      "source": [
        "#Identificar valores nulos por columna\n",
        "valores_nulos=MR1.isnull().sum().sum()\n",
        "valores_nulos"
      ],
      "metadata": {
        "colab": {
          "base_uri": "https://localhost:8080/"
        },
        "id": "w5OVz_0xJ3EK",
        "outputId": "92a22ab9-8ba6-4984-c40a-7ead23521cf2"
      },
      "execution_count": 75,
      "outputs": [
        {
          "output_type": "execute_result",
          "data": {
            "text/plain": [
              "2056"
            ]
          },
          "metadata": {},
          "execution_count": 75
        }
      ]
    },
    {
      "cell_type": "code",
      "source": [
        "MR1.info()"
      ],
      "metadata": {
        "colab": {
          "base_uri": "https://localhost:8080/"
        },
        "id": "XtfyBmwlENYj",
        "outputId": "fd3b19dd-1c42-4342-f9fc-12f1da961c2a"
      },
      "execution_count": 53,
      "outputs": [
        {
          "output_type": "stream",
          "name": "stdout",
          "text": [
            "<class 'pandas.core.frame.DataFrame'>\n",
            "RangeIndex: 171 entries, 0 to 170\n",
            "Data columns (total 40 columns):\n",
            " #   Column                                                      Non-Null Count  Dtype  \n",
            "---  ------                                                      --------------  -----  \n",
            " 0   _record_id                                                  171 non-null    object \n",
            " 1   _title                                                      171 non-null    object \n",
            " 2   _server_updated_at                                          171 non-null    object \n",
            " 3   _updated_by                                                 171 non-null    object \n",
            " 4   _geometry                                                   171 non-null    object \n",
            " 5   _latitude                                                   171 non-null    float64\n",
            " 6   _longitude                                                  171 non-null    float64\n",
            " 7   228_store_name                                              171 non-null    object \n",
            " 8   229_store_picture                                           171 non-null    object \n",
            " 9   232_type_of_store                                           171 non-null    object \n",
            " 10  108_does_the_micro_retailer_has_a_barred_window_            171 non-null    object \n",
            " 11  99_does_the_micro_retailer_exhibits_products_outside_       171 non-null    object \n",
            " 12  102_does_the_micro_retailer_sells_fresh_products_           171 non-null    object \n",
            " 13  97_number_of_customers_in_store                             171 non-null    int64  \n",
            " 14  268_number_fridges                                          168 non-null    float64\n",
            " 15  184_store_devices                                           171 non-null    object \n",
            " 16  104_how_many_shelves_does_the_micro_retailer_have           171 non-null    int64  \n",
            " 17  pictures_of_shelves_if_possible                             19 non-null     object \n",
            " 18  hola_somos_estudiantes_del_tec_de_monterrey_estamos_realiz  171 non-null    object \n",
            " 19  le_comento_que_toda_esta_informacin_es_confidencial         171 non-null    object \n",
            " 20  233_date_establishment                                      112 non-null    object \n",
            " 21  2_current_permanent_employees                               111 non-null    float64\n",
            " 22  4_number_permanent_employees_last_year                      95 non-null     float64\n",
            " 23  5_change_store_space_last_year                              99 non-null     object \n",
            " 24  6_change_employees_average_salary_last_year                 85 non-null     object \n",
            " 25  20_reviews_finances_monthly                                 108 non-null    object \n",
            " 26  49_inventory_records                                        110 non-null    object \n",
            " 27  18_sales_records                                            110 non-null    object \n",
            " 28  155_sales_registers_used_for                                6 non-null      object \n",
            " 29  103_number_own_fridges                                      27 non-null     float64\n",
            " 30  19_tax_id                                                   100 non-null    object \n",
            " 31  145_number_direct_competitors                               103 non-null    float64\n",
            " 32  310_burnout                                                 107 non-null    object \n",
            " 33  24_burnout                                                  38 non-null     float64\n",
            " 34  186_internet_connection                                     108 non-null    object \n",
            " 35  210_sales_channels                                          82 non-null     object \n",
            " 36  189_payment_methods                                         107 non-null    object \n",
            " 37  28_prefered_payment_method                                  2 non-null      object \n",
            " 38  31_different_prices_payment_method                          7 non-null      object \n",
            " 39  269_cash_discount                                           2 non-null      object \n",
            "dtypes: float64(8), int64(2), object(30)\n",
            "memory usage: 53.6+ KB\n"
          ]
        }
      ]
    },
    {
      "cell_type": "code",
      "source": [
        "#Filtro por columnas dejando fuera las 2 mencionadas anteriormente\n",
        "MR11=MR1.iloc[:,[14,20,21,22,23,24,25,26,27,30,31,32,34,36]] #filas no consecutivas\n",
        "MR11.head()"
      ],
      "metadata": {
        "id": "fiVycLrZGt6G"
      },
      "execution_count": null,
      "outputs": []
    },
    {
      "cell_type": "code",
      "source": [
        "MR11=MR11.fillna(method=\"bfill\")"
      ],
      "metadata": {
        "id": "oSDbbeRUJVrl"
      },
      "execution_count": 73,
      "outputs": []
    },
    {
      "cell_type": "code",
      "source": [
        "#Identificar valores nulos por columna\n",
        "valores_nulos=MR11.isnull().sum().sum()\n",
        "valores_nulos"
      ],
      "metadata": {
        "colab": {
          "base_uri": "https://localhost:8080/"
        },
        "id": "NY3hr-dNJmC8",
        "outputId": "4071ce28-0bb5-4967-d4a1-4b444785e78a"
      },
      "execution_count": 74,
      "outputs": [
        {
          "output_type": "execute_result",
          "data": {
            "text/plain": [
              "66"
            ]
          },
          "metadata": {},
          "execution_count": 74
        }
      ]
    },
    {
      "cell_type": "code",
      "source": [
        "MR2=df.iloc[:,40:80]  #columnas consecutivas \n",
        "MR2"
      ],
      "metadata": {
        "id": "po-LW1MXECXT"
      },
      "execution_count": null,
      "outputs": []
    },
    {
      "cell_type": "code",
      "source": [
        "#Identificar valores nulos por columna\n",
        "valores_nulos=MR2.isnull().sum().sum()\n",
        "valores_nulos"
      ],
      "metadata": {
        "colab": {
          "base_uri": "https://localhost:8080/"
        },
        "id": "W3C9bUb1J860",
        "outputId": "1afbe2d6-6a5f-4035-8286-4b235338fbb1"
      },
      "execution_count": 76,
      "outputs": [
        {
          "output_type": "execute_result",
          "data": {
            "text/plain": [
              "5087"
            ]
          },
          "metadata": {},
          "execution_count": 76
        }
      ]
    },
    {
      "cell_type": "code",
      "source": [
        "MR2.info()"
      ],
      "metadata": {
        "colab": {
          "base_uri": "https://localhost:8080/"
        },
        "id": "EovRFsGeElmT",
        "outputId": "b97a59b1-46c3-47da-bb97-569f57f27ee2"
      },
      "execution_count": 59,
      "outputs": [
        {
          "output_type": "stream",
          "name": "stdout",
          "text": [
            "<class 'pandas.core.frame.DataFrame'>\n",
            "RangeIndex: 171 entries, 0 to 170\n",
            "Data columns (total 40 columns):\n",
            " #   Column                                             Non-Null Count  Dtype  \n",
            "---  ------                                             --------------  -----  \n",
            " 0   270_card_extra_charge                              2 non-null      object \n",
            " 1   271_card_fee                                       0 non-null      float64\n",
            " 2   272_card_days_receive_money                        44 non-null     float64\n",
            " 3   273_platform_extra_charge                          0 non-null      float64\n",
            " 4   274_platform_fee                                   0 non-null      float64\n",
            " 5   275_platform_days_receive_money                    0 non-null      float64\n",
            " 6   30_payment_methods_large_purchases                 1 non-null      object \n",
            " 7   214_customer_relationship_tools                    95 non-null     object \n",
            " 8   33_credit_to_customers                             107 non-null    object \n",
            " 9   276_expected_days_informal_credit                  24 non-null     float64\n",
            " 10  35_interest_rate                                   21 non-null     object \n",
            " 11  36_credit_default_rate                             14 non-null     float64\n",
            " 12  38_average_margin_profits                          66 non-null     object \n",
            " 13  193_sales_planning_tools                           82 non-null     object \n",
            " 14  227_agreement_ecommerce_platforms                  98 non-null     object \n",
            " 15  60_services                                        77 non-null     object \n",
            " 16  315_frequency_topups                               10 non-null     float64\n",
            " 17  316_frequency_utility_bills                        2 non-null      float64\n",
            " 18  317_home_deliveries                                17 non-null     float64\n",
            " 19  62_frequency_only_services                         24 non-null     float64\n",
            " 20  78_number_home_deliveries_week                     2 non-null      float64\n",
            " 21  77_delivery_timeslots                              2 non-null      object \n",
            " 22  79_delivery_vehicle                                2 non-null      object \n",
            " 23  64_comission_services                              23 non-null     object \n",
            " 24  66_percentaje_services_income                      22 non-null     object \n",
            " 25  69_why_not_services                                41 non-null     object \n",
            " 26  311_topups                                         57 non-null     object \n",
            " 27  312_payment_of_utilities                           66 non-null     object \n",
            " 28  313_home_deliveries                                58 non-null     object \n",
            " 29  314_reception_delivery_packages                    68 non-null     object \n",
            " 30  42_willingness_share_inventory_data_suppliers      80 non-null     object \n",
            " 31  44_willingness_inventory_management_suppliers      79 non-null     object \n",
            " 32  45_willingness_reorder_suppliers                   77 non-null     object \n",
            " 33  46_willingness_reorder_suppliers_variety           74 non-null     object \n",
            " 34  47_willingness_reorder_suppliers_lower_prices      69 non-null     object \n",
            " 35  43_willingness_share_sales_data_suppliers          70 non-null     object \n",
            " 36  58_willingness_share_sales_data_mse                68 non-null     object \n",
            " 37  59_willingness_share_sales_data_mse_better_prices  68 non-null     object \n",
            " 38  172_supplier_frequency                             72 non-null     float64\n",
            " 39  185_place_orders_suppliers                         71 non-null     object \n",
            "dtypes: float64(13), object(27)\n",
            "memory usage: 53.6+ KB\n"
          ]
        }
      ]
    },
    {
      "cell_type": "code",
      "source": [
        "MR22=MR2.fillna(method=\"ffill\")"
      ],
      "metadata": {
        "id": "yXIYjxW7KPLq"
      },
      "execution_count": 81,
      "outputs": []
    },
    {
      "cell_type": "code",
      "source": [
        "#Identificar valores nulos por columna\n",
        "valores_nulos=MR22.isnull().sum().sum()\n",
        "valores_nulos"
      ],
      "metadata": {
        "colab": {
          "base_uri": "https://localhost:8080/"
        },
        "id": "QcI0nFogKB1D",
        "outputId": "95ca17e4-beb0-401d-d6a4-5579a6a73554"
      },
      "execution_count": 82,
      "outputs": [
        {
          "output_type": "execute_result",
          "data": {
            "text/plain": [
              "1390"
            ]
          },
          "metadata": {},
          "execution_count": 82
        }
      ]
    },
    {
      "cell_type": "code",
      "source": [
        "MR3=df.iloc[:,80:120]  #columnas consecutivas \n",
        "MR3"
      ],
      "metadata": {
        "id": "1JsOnf7SEE62"
      },
      "execution_count": null,
      "outputs": []
    },
    {
      "cell_type": "code",
      "source": [
        "#Identificar valores nulos por columna\n",
        "valores_nulos=MR3.isnull().sum().sum()\n",
        "valores_nulos"
      ],
      "metadata": {
        "colab": {
          "base_uri": "https://localhost:8080/"
        },
        "outputId": "6a5ed150-73d6-405f-c10f-5f84f313bd6f",
        "id": "5bytFKe0K62j"
      },
      "execution_count": 86,
      "outputs": [
        {
          "output_type": "execute_result",
          "data": {
            "text/plain": [
              "2701"
            ]
          },
          "metadata": {},
          "execution_count": 86
        }
      ]
    },
    {
      "cell_type": "code",
      "source": [
        "MR3.info()"
      ],
      "metadata": {
        "colab": {
          "base_uri": "https://localhost:8080/"
        },
        "id": "BlCaVQSfE0OF",
        "outputId": "5b5b1324-c336-46f9-d065-d35af6764053"
      },
      "execution_count": 62,
      "outputs": [
        {
          "output_type": "stream",
          "name": "stdout",
          "text": [
            "<class 'pandas.core.frame.DataFrame'>\n",
            "RangeIndex: 171 entries, 0 to 170\n",
            "Data columns (total 26 columns):\n",
            " #   Column                                          Non-Null Count  Dtype  \n",
            "---  ------                                          --------------  -----  \n",
            " 0   53_special_conditions_suppliers                 47 non-null     object \n",
            " 1   278_credit_interest                             38 non-null     object \n",
            " 2   192_procurement_planning_tools                  68 non-null     object \n",
            " 3   277_payment_method_suppliers                    68 non-null     object \n",
            " 4   56_procurement_changes_pandemic                 81 non-null     object \n",
            " 5   279_changes_procurement_pandemic                23 non-null     object \n",
            " 6   157_frequency_organize_shelves                  96 non-null     object \n",
            " 7   158_charact_organize_products_on_shelves        92 non-null     object \n",
            " 8   161_actions_stockouts                           92 non-null     object \n",
            " 9   162_inventory_extra_space                       89 non-null     object \n",
            " 10  163_number_high_perishable_products             78 non-null     float64\n",
            " 11  249_technology_training                         73 non-null     object \n",
            " 12  250_technology_investment_operations            74 non-null     object \n",
            " 13  251_technology_investment_customers             73 non-null     object \n",
            " 14  254_technology_roadmap                          71 non-null     object \n",
            " 15  260_technology_scalable                         69 non-null     object \n",
            " 16  261_technology_organization                     69 non-null     object \n",
            " 17  262_technology_serve_customers                  71 non-null     object \n",
            " 18  263_technology_secure_sales                     70 non-null     object \n",
            " 19  264_technology_budget                           70 non-null     object \n",
            " 20  267_technology_investment_customer_preferences  70 non-null     object \n",
            " 21  234_willingness_participate_workshop            98 non-null     object \n",
            " 22  318_shopkeeper_name                             48 non-null     object \n",
            " 23  319_shopkeepers_last_name                       46 non-null     object \n",
            " 24  236_whatsapp                                    42 non-null     float64\n",
            " 25  235_email                                       29 non-null     object \n",
            "dtypes: float64(2), object(24)\n",
            "memory usage: 34.9+ KB\n"
          ]
        }
      ]
    },
    {
      "cell_type": "code",
      "source": [
        "MR33=MR3.fillna(method=\"ffill\")"
      ],
      "metadata": {
        "id": "TlJQziNlKoP9"
      },
      "execution_count": 83,
      "outputs": []
    },
    {
      "cell_type": "code",
      "source": [
        "#Identificar valores nulos por columna\n",
        "valores_nulos=MR33.isnull().sum().sum()\n",
        "valores_nulos"
      ],
      "metadata": {
        "colab": {
          "base_uri": "https://localhost:8080/"
        },
        "id": "tbEzl7Y1EFby",
        "outputId": "fa0d39a6-cd2c-45c0-aaa0-473720537134"
      },
      "execution_count": 85,
      "outputs": [
        {
          "output_type": "execute_result",
          "data": {
            "text/plain": [
              "154"
            ]
          },
          "metadata": {},
          "execution_count": 85
        }
      ]
    },
    {
      "cell_type": "code",
      "source": [
        "MR4.info()"
      ],
      "metadata": {
        "colab": {
          "base_uri": "https://localhost:8080/"
        },
        "id": "Kba0v_VDE1xI",
        "outputId": "3f296ca3-c2e9-44ec-f442-1bed2b07b4c3"
      },
      "execution_count": 68,
      "outputs": [
        {
          "output_type": "stream",
          "name": "stdout",
          "text": [
            "<class 'pandas.core.frame.DataFrame'>\n",
            "RangeIndex: 171 entries, 0 to 170\n",
            "Empty DataFrame"
          ]
        }
      ]
    },
    {
      "cell_type": "markdown",
      "source": [
        "No funciona toda la base de datos igual, pues no lee una buena parte correctamente"
      ],
      "metadata": {
        "id": "eRrTCM1qHHMt"
      }
    },
    {
      "cell_type": "code",
      "source": [
        "MicroRetailerLimpio= pd.concat([MR11, MR22, MR33], axis=1)\n",
        "MicroRetailerLimpio.info()"
      ],
      "metadata": {
        "id": "yDAfqNlALGrP"
      },
      "execution_count": null,
      "outputs": []
    },
    {
      "cell_type": "code",
      "source": [
        "#Corroboramos valores nulos en todo el dataframe\n",
        "valores_nulos=MicroRetailerLimpio.isnull().sum().sum()\n",
        "valores_nulos"
      ],
      "metadata": {
        "colab": {
          "base_uri": "https://localhost:8080/"
        },
        "id": "_ofbk4mnLmEe",
        "outputId": "0bb7987d-37b3-458a-a82f-61be83770fdd"
      },
      "execution_count": 88,
      "outputs": [
        {
          "output_type": "execute_result",
          "data": {
            "text/plain": [
              "1610"
            ]
          },
          "metadata": {},
          "execution_count": 88
        }
      ]
    },
    {
      "cell_type": "code",
      "source": [
        "#Convertir DataFrame a CSV\n",
        "MicroRetailerLimpio.to_csv(\"MicroRetailerLimpio.csv\")"
      ],
      "metadata": {
        "id": "pjx0C2MILrEy"
      },
      "execution_count": 89,
      "outputs": []
    },
    {
      "cell_type": "code",
      "source": [
        "#descargar archivo filtrado en csv\n",
        "from google.colab import files \n",
        "files.download(\"MicroRetailerLimpio.csv\")"
      ],
      "metadata": {
        "colab": {
          "base_uri": "https://localhost:8080/",
          "height": 17
        },
        "id": "qwqrR2HXLv62",
        "outputId": "67eb3ad7-6018-42dc-af91-3388133b734f"
      },
      "execution_count": 90,
      "outputs": [
        {
          "output_type": "display_data",
          "data": {
            "text/plain": [
              "<IPython.core.display.Javascript object>"
            ],
            "application/javascript": [
              "\n",
              "    async function download(id, filename, size) {\n",
              "      if (!google.colab.kernel.accessAllowed) {\n",
              "        return;\n",
              "      }\n",
              "      const div = document.createElement('div');\n",
              "      const label = document.createElement('label');\n",
              "      label.textContent = `Downloading \"${filename}\": `;\n",
              "      div.appendChild(label);\n",
              "      const progress = document.createElement('progress');\n",
              "      progress.max = size;\n",
              "      div.appendChild(progress);\n",
              "      document.body.appendChild(div);\n",
              "\n",
              "      const buffers = [];\n",
              "      let downloaded = 0;\n",
              "\n",
              "      const channel = await google.colab.kernel.comms.open(id);\n",
              "      // Send a message to notify the kernel that we're ready.\n",
              "      channel.send({})\n",
              "\n",
              "      for await (const message of channel.messages) {\n",
              "        // Send a message to notify the kernel that we're ready.\n",
              "        channel.send({})\n",
              "        if (message.buffers) {\n",
              "          for (const buffer of message.buffers) {\n",
              "            buffers.push(buffer);\n",
              "            downloaded += buffer.byteLength;\n",
              "            progress.value = downloaded;\n",
              "          }\n",
              "        }\n",
              "      }\n",
              "      const blob = new Blob(buffers, {type: 'application/binary'});\n",
              "      const a = document.createElement('a');\n",
              "      a.href = window.URL.createObjectURL(blob);\n",
              "      a.download = filename;\n",
              "      div.appendChild(a);\n",
              "      a.click();\n",
              "      div.remove();\n",
              "    }\n",
              "  "
            ]
          },
          "metadata": {}
        },
        {
          "output_type": "display_data",
          "data": {
            "text/plain": [
              "<IPython.core.display.Javascript object>"
            ],
            "application/javascript": [
              "download(\"download_78e327e5-dc08-488f-b954-525a8235b8c0\", \"MicroRetailerLimpio.csv\", 193994)"
            ]
          },
          "metadata": {}
        }
      ]
    },
    {
      "cell_type": "code",
      "source": [
        "#Solo logre disminuir el número pues son demasiados"
      ],
      "metadata": {
        "id": "OcU0EMC3Lz_D"
      },
      "execution_count": null,
      "outputs": []
    }
  ]
}
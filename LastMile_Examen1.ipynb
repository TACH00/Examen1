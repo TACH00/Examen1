{
  "nbformat": 4,
  "nbformat_minor": 0,
  "metadata": {
    "colab": {
      "provenance": [],
      "authorship_tag": "ABX9TyPQems7XzjmB2btgPvZvlgU",
      "include_colab_link": true
    },
    "kernelspec": {
      "name": "python3",
      "display_name": "Python 3"
    },
    "language_info": {
      "name": "python"
    }
  },
  "cells": [
    {
      "cell_type": "markdown",
      "metadata": {
        "id": "view-in-github",
        "colab_type": "text"
      },
      "source": [
        "<a href=\"https://colab.research.google.com/github/TACH00/Examen1/blob/main/LastMile_Examen1.ipynb\" target=\"_parent\"><img src=\"https://colab.research.google.com/assets/colab-badge.svg\" alt=\"Open In Colab\"/></a>"
      ]
    },
    {
      "cell_type": "code",
      "execution_count": null,
      "metadata": {
        "id": "nThGmu5v9p3b"
      },
      "outputs": [],
      "source": [
        "%pip install funpymodeling"
      ]
    },
    {
      "cell_type": "code",
      "source": [
        "#Importamos librerias requeridas\n",
        "import pandas as pd\n",
        "import numpy as np\n",
        "import matplotlib.pyplot as plt\n",
        "from funpymodeling.exploratory import freq_tbl"
      ],
      "metadata": {
        "id": "32ufw0u09wF0"
      },
      "execution_count": 2,
      "outputs": []
    },
    {
      "cell_type": "code",
      "source": [
        "#Cargar archivo csv desde equipo\n",
        "from google.colab import files\n",
        "files.upload()"
      ],
      "metadata": {
        "id": "4Rh_qXxT9yQS"
      },
      "execution_count": null,
      "outputs": []
    },
    {
      "cell_type": "code",
      "source": [
        "#Convertir en Dataframe\n",
        "df=pd.read_csv('lastmile_delivery_operations_mit_lift_lab.csv')\n",
        "df.head()"
      ],
      "metadata": {
        "id": "XQC2TxHp-A7z"
      },
      "execution_count": null,
      "outputs": []
    },
    {
      "cell_type": "code",
      "source": [
        "#Verificamos información del DataFrame para reconocer las variables que son cuantitativas y cualitativas\n",
        "df.info()"
      ],
      "metadata": {
        "colab": {
          "base_uri": "https://localhost:8080/"
        },
        "id": "k8TRyoco-VU5",
        "outputId": "ecd2678d-cf9e-4e36-dc3f-041ac9ec1e5e"
      },
      "execution_count": 6,
      "outputs": [
        {
          "output_type": "stream",
          "name": "stdout",
          "text": [
            "<class 'pandas.core.frame.DataFrame'>\n",
            "RangeIndex: 182 entries, 0 to 181\n",
            "Data columns (total 29 columns):\n",
            " #   Column                                         Non-Null Count  Dtype  \n",
            "---  ------                                         --------------  -----  \n",
            " 0   _record_id                                     182 non-null    object \n",
            " 1   _title                                         176 non-null    object \n",
            " 2   _server_updated_at                             182 non-null    object \n",
            " 3   _updated_by                                    182 non-null    object \n",
            " 4   _geometry                                      182 non-null    object \n",
            " 5   _latitude                                      182 non-null    float64\n",
            " 6   _longitude                                     182 non-null    float64\n",
            " 7   arrival_of_the_freight_vehicle                 182 non-null    object \n",
            " 8   plates                                         181 non-null    object \n",
            " 9   company_if_visible                             109 non-null    object \n",
            " 10  visit_purpose                                  182 non-null    object \n",
            " 11  type_of_vehicle                                182 non-null    object \n",
            " 12  number_of_operators                            182 non-null    int64  \n",
            " 13  refrigerated_truck                             182 non-null    object \n",
            " 14  type_of_cargo                                  182 non-null    object \n",
            " 15  picture_of_the_parked_freight_vehicle          182 non-null    object \n",
            " 16  departure_of_the_freight_vehicle               182 non-null    object \n",
            " 17  where_was_the_vehicle_parked                   182 non-null    object \n",
            " 18  while_parked_was_the_engine_running            182 non-null    object \n",
            " 19  used_traffic_cone                              182 non-null    object \n",
            " 20  vehicles_unloading_door                        182 non-null    object \n",
            " 21  number_of_available_trolleys                   182 non-null    int64  \n",
            " 22  serving_customer                               35 non-null     float64\n",
            " 23  garage_blocking                                182 non-null    object \n",
            " 24  accident                                       182 non-null    object \n",
            " 25  describe_the_accident                          0 non-null      float64\n",
            " 26  noise                                          182 non-null    object \n",
            " 27  traffic_congestion                             182 non-null    object \n",
            " 28  maximum_number_of_vehicles_in_the_traffic_jam  2 non-null      float64\n",
            "dtypes: float64(5), int64(2), object(22)\n",
            "memory usage: 41.4+ KB\n"
          ]
        }
      ]
    },
    {
      "cell_type": "code",
      "source": [
        "#Filtro por columnas, de acuerdo a la información obtenida arriba obtenemos las cuantitativas (22,25 y 28 se eliminan por la cantidad de datos que hay)\n",
        "cuant=df.iloc[ : , [5,6,12,21]]  #columnas no consecutivas \n",
        "cuant"
      ],
      "metadata": {
        "id": "ZGNIrgfG-5RE"
      },
      "execution_count": null,
      "outputs": []
    },
    {
      "cell_type": "code",
      "source": [
        "cuant.info() #Verificamos que los datos correspondan al tipo entero o float"
      ],
      "metadata": {
        "colab": {
          "base_uri": "https://localhost:8080/"
        },
        "id": "uul3HJ48AI0i",
        "outputId": "17291dd6-5580-429f-fa91-24159d450414"
      },
      "execution_count": 8,
      "outputs": [
        {
          "output_type": "stream",
          "name": "stdout",
          "text": [
            "<class 'pandas.core.frame.DataFrame'>\n",
            "RangeIndex: 182 entries, 0 to 181\n",
            "Data columns (total 4 columns):\n",
            " #   Column                        Non-Null Count  Dtype  \n",
            "---  ------                        --------------  -----  \n",
            " 0   _latitude                     182 non-null    float64\n",
            " 1   _longitude                    182 non-null    float64\n",
            " 2   number_of_operators           182 non-null    int64  \n",
            " 3   number_of_available_trolleys  182 non-null    int64  \n",
            "dtypes: float64(2), int64(2)\n",
            "memory usage: 5.8 KB\n"
          ]
        }
      ]
    },
    {
      "cell_type": "code",
      "source": [
        "#Filtro por columnas, de acuerdo a la información obtenida arriba obtenemos las cualitativas\n",
        "cual=df.iloc[ : , [0,1,2,3,4,7,8,9,10,11,13,14,15,16,17,18,19,20,23,24,26,27]]"
      ],
      "metadata": {
        "id": "yhX4Hjz8AWV4"
      },
      "execution_count": 9,
      "outputs": []
    },
    {
      "cell_type": "code",
      "source": [
        "cual.info() #Verificamos que entre los datos no hayan cuantitativos y que la suma de ambos nuevos subdf de el total del df original"
      ],
      "metadata": {
        "colab": {
          "base_uri": "https://localhost:8080/"
        },
        "id": "_c46izH-A0T7",
        "outputId": "5c7ecea9-99c8-41dc-f116-a415f7df6573"
      },
      "execution_count": 10,
      "outputs": [
        {
          "output_type": "stream",
          "name": "stdout",
          "text": [
            "<class 'pandas.core.frame.DataFrame'>\n",
            "RangeIndex: 182 entries, 0 to 181\n",
            "Data columns (total 22 columns):\n",
            " #   Column                                 Non-Null Count  Dtype \n",
            "---  ------                                 --------------  ----- \n",
            " 0   _record_id                             182 non-null    object\n",
            " 1   _title                                 176 non-null    object\n",
            " 2   _server_updated_at                     182 non-null    object\n",
            " 3   _updated_by                            182 non-null    object\n",
            " 4   _geometry                              182 non-null    object\n",
            " 5   arrival_of_the_freight_vehicle         182 non-null    object\n",
            " 6   plates                                 181 non-null    object\n",
            " 7   company_if_visible                     109 non-null    object\n",
            " 8   visit_purpose                          182 non-null    object\n",
            " 9   type_of_vehicle                        182 non-null    object\n",
            " 10  refrigerated_truck                     182 non-null    object\n",
            " 11  type_of_cargo                          182 non-null    object\n",
            " 12  picture_of_the_parked_freight_vehicle  182 non-null    object\n",
            " 13  departure_of_the_freight_vehicle       182 non-null    object\n",
            " 14  where_was_the_vehicle_parked           182 non-null    object\n",
            " 15  while_parked_was_the_engine_running    182 non-null    object\n",
            " 16  used_traffic_cone                      182 non-null    object\n",
            " 17  vehicles_unloading_door                182 non-null    object\n",
            " 18  garage_blocking                        182 non-null    object\n",
            " 19  accident                               182 non-null    object\n",
            " 20  noise                                  182 non-null    object\n",
            " 21  traffic_congestion                     182 non-null    object\n",
            "dtypes: object(22)\n",
            "memory usage: 31.4+ KB\n"
          ]
        }
      ]
    },
    {
      "cell_type": "code",
      "source": [
        "#Imprimo todas las columnas que aun contienen nulos para analizarla y así determinar que metodo de sustitución ocupar\n",
        "cual1=cual.iloc[ : , [1,6,7]]  #columnas no consecutivas \n",
        "cual1"
      ],
      "metadata": {
        "colab": {
          "base_uri": "https://localhost:8080/",
          "height": 424
        },
        "id": "1cURIPAWBI7u",
        "outputId": "a503365f-1ae5-40bf-fb51-0be03cb5abdb"
      },
      "execution_count": 12,
      "outputs": [
        {
          "output_type": "execute_result",
          "data": {
            "text/plain": [
              "                                                _title     plates  \\\n",
              "0    73 Calle Almolonga\\nPuebla de Zaragoza PUE 721...  KB-7050-A   \n",
              "1    72 Calle Almolonga\\nPuebla de Zaragoza PUE 721...    XC8687A   \n",
              "2    4510 Vía Volkswagen\\nHeroica Puebla de Zaragoz...   SM 20745   \n",
              "3    4501A Avenida 2 Poniente\\nHeroica Puebla de Za...    SP35169   \n",
              "4    4717 Avenida Reforma\\nHeroica Puebla de Zarago...    SN89460   \n",
              "..                                                 ...        ...   \n",
              "177                                                NaN  HL-3785-F   \n",
              "178                                                NaN  SP-29-798   \n",
              "179      406-B Avenida 2 Oriente\\nPuebla PUE 72000\\nMX   05-AP-6G   \n",
              "180       402E Avenida 2 Oriente\\nPuebla PUE 72000\\nMX  LE-88-707   \n",
              "181        402 Avenida 2 Oriente\\nPuebla PUE 72000\\nMX  HL-3785-F   \n",
              "\n",
              "    company_if_visible  \n",
              "0             Ricolino  \n",
              "1             Marinela  \n",
              "2              La fete  \n",
              "3               Barcel  \n",
              "4                  NaN  \n",
              "..                 ...  \n",
              "177                NaN  \n",
              "178                NaN  \n",
              "179              Infra  \n",
              "180            Alpura   \n",
              "181              Bimbo  \n",
              "\n",
              "[182 rows x 3 columns]"
            ],
            "text/html": [
              "\n",
              "  <div id=\"df-116b2ac6-724d-438c-bd09-9401be9dc402\">\n",
              "    <div class=\"colab-df-container\">\n",
              "      <div>\n",
              "<style scoped>\n",
              "    .dataframe tbody tr th:only-of-type {\n",
              "        vertical-align: middle;\n",
              "    }\n",
              "\n",
              "    .dataframe tbody tr th {\n",
              "        vertical-align: top;\n",
              "    }\n",
              "\n",
              "    .dataframe thead th {\n",
              "        text-align: right;\n",
              "    }\n",
              "</style>\n",
              "<table border=\"1\" class=\"dataframe\">\n",
              "  <thead>\n",
              "    <tr style=\"text-align: right;\">\n",
              "      <th></th>\n",
              "      <th>_title</th>\n",
              "      <th>plates</th>\n",
              "      <th>company_if_visible</th>\n",
              "    </tr>\n",
              "  </thead>\n",
              "  <tbody>\n",
              "    <tr>\n",
              "      <th>0</th>\n",
              "      <td>73 Calle Almolonga\\nPuebla de Zaragoza PUE 721...</td>\n",
              "      <td>KB-7050-A</td>\n",
              "      <td>Ricolino</td>\n",
              "    </tr>\n",
              "    <tr>\n",
              "      <th>1</th>\n",
              "      <td>72 Calle Almolonga\\nPuebla de Zaragoza PUE 721...</td>\n",
              "      <td>XC8687A</td>\n",
              "      <td>Marinela</td>\n",
              "    </tr>\n",
              "    <tr>\n",
              "      <th>2</th>\n",
              "      <td>4510 Vía Volkswagen\\nHeroica Puebla de Zaragoz...</td>\n",
              "      <td>SM 20745</td>\n",
              "      <td>La fete</td>\n",
              "    </tr>\n",
              "    <tr>\n",
              "      <th>3</th>\n",
              "      <td>4501A Avenida 2 Poniente\\nHeroica Puebla de Za...</td>\n",
              "      <td>SP35169</td>\n",
              "      <td>Barcel</td>\n",
              "    </tr>\n",
              "    <tr>\n",
              "      <th>4</th>\n",
              "      <td>4717 Avenida Reforma\\nHeroica Puebla de Zarago...</td>\n",
              "      <td>SN89460</td>\n",
              "      <td>NaN</td>\n",
              "    </tr>\n",
              "    <tr>\n",
              "      <th>...</th>\n",
              "      <td>...</td>\n",
              "      <td>...</td>\n",
              "      <td>...</td>\n",
              "    </tr>\n",
              "    <tr>\n",
              "      <th>177</th>\n",
              "      <td>NaN</td>\n",
              "      <td>HL-3785-F</td>\n",
              "      <td>NaN</td>\n",
              "    </tr>\n",
              "    <tr>\n",
              "      <th>178</th>\n",
              "      <td>NaN</td>\n",
              "      <td>SP-29-798</td>\n",
              "      <td>NaN</td>\n",
              "    </tr>\n",
              "    <tr>\n",
              "      <th>179</th>\n",
              "      <td>406-B Avenida 2 Oriente\\nPuebla PUE 72000\\nMX</td>\n",
              "      <td>05-AP-6G</td>\n",
              "      <td>Infra</td>\n",
              "    </tr>\n",
              "    <tr>\n",
              "      <th>180</th>\n",
              "      <td>402E Avenida 2 Oriente\\nPuebla PUE 72000\\nMX</td>\n",
              "      <td>LE-88-707</td>\n",
              "      <td>Alpura</td>\n",
              "    </tr>\n",
              "    <tr>\n",
              "      <th>181</th>\n",
              "      <td>402 Avenida 2 Oriente\\nPuebla PUE 72000\\nMX</td>\n",
              "      <td>HL-3785-F</td>\n",
              "      <td>Bimbo</td>\n",
              "    </tr>\n",
              "  </tbody>\n",
              "</table>\n",
              "<p>182 rows × 3 columns</p>\n",
              "</div>\n",
              "      <button class=\"colab-df-convert\" onclick=\"convertToInteractive('df-116b2ac6-724d-438c-bd09-9401be9dc402')\"\n",
              "              title=\"Convert this dataframe to an interactive table.\"\n",
              "              style=\"display:none;\">\n",
              "        \n",
              "  <svg xmlns=\"http://www.w3.org/2000/svg\" height=\"24px\"viewBox=\"0 0 24 24\"\n",
              "       width=\"24px\">\n",
              "    <path d=\"M0 0h24v24H0V0z\" fill=\"none\"/>\n",
              "    <path d=\"M18.56 5.44l.94 2.06.94-2.06 2.06-.94-2.06-.94-.94-2.06-.94 2.06-2.06.94zm-11 1L8.5 8.5l.94-2.06 2.06-.94-2.06-.94L8.5 2.5l-.94 2.06-2.06.94zm10 10l.94 2.06.94-2.06 2.06-.94-2.06-.94-.94-2.06-.94 2.06-2.06.94z\"/><path d=\"M17.41 7.96l-1.37-1.37c-.4-.4-.92-.59-1.43-.59-.52 0-1.04.2-1.43.59L10.3 9.45l-7.72 7.72c-.78.78-.78 2.05 0 2.83L4 21.41c.39.39.9.59 1.41.59.51 0 1.02-.2 1.41-.59l7.78-7.78 2.81-2.81c.8-.78.8-2.07 0-2.86zM5.41 20L4 18.59l7.72-7.72 1.47 1.35L5.41 20z\"/>\n",
              "  </svg>\n",
              "      </button>\n",
              "      \n",
              "  <style>\n",
              "    .colab-df-container {\n",
              "      display:flex;\n",
              "      flex-wrap:wrap;\n",
              "      gap: 12px;\n",
              "    }\n",
              "\n",
              "    .colab-df-convert {\n",
              "      background-color: #E8F0FE;\n",
              "      border: none;\n",
              "      border-radius: 50%;\n",
              "      cursor: pointer;\n",
              "      display: none;\n",
              "      fill: #1967D2;\n",
              "      height: 32px;\n",
              "      padding: 0 0 0 0;\n",
              "      width: 32px;\n",
              "    }\n",
              "\n",
              "    .colab-df-convert:hover {\n",
              "      background-color: #E2EBFA;\n",
              "      box-shadow: 0px 1px 2px rgba(60, 64, 67, 0.3), 0px 1px 3px 1px rgba(60, 64, 67, 0.15);\n",
              "      fill: #174EA6;\n",
              "    }\n",
              "\n",
              "    [theme=dark] .colab-df-convert {\n",
              "      background-color: #3B4455;\n",
              "      fill: #D2E3FC;\n",
              "    }\n",
              "\n",
              "    [theme=dark] .colab-df-convert:hover {\n",
              "      background-color: #434B5C;\n",
              "      box-shadow: 0px 1px 3px 1px rgba(0, 0, 0, 0.15);\n",
              "      filter: drop-shadow(0px 1px 2px rgba(0, 0, 0, 0.3));\n",
              "      fill: #FFFFFF;\n",
              "    }\n",
              "  </style>\n",
              "\n",
              "      <script>\n",
              "        const buttonEl =\n",
              "          document.querySelector('#df-116b2ac6-724d-438c-bd09-9401be9dc402 button.colab-df-convert');\n",
              "        buttonEl.style.display =\n",
              "          google.colab.kernel.accessAllowed ? 'block' : 'none';\n",
              "\n",
              "        async function convertToInteractive(key) {\n",
              "          const element = document.querySelector('#df-116b2ac6-724d-438c-bd09-9401be9dc402');\n",
              "          const dataTable =\n",
              "            await google.colab.kernel.invokeFunction('convertToInteractive',\n",
              "                                                     [key], {});\n",
              "          if (!dataTable) return;\n",
              "\n",
              "          const docLinkHtml = 'Like what you see? Visit the ' +\n",
              "            '<a target=\"_blank\" href=https://colab.research.google.com/notebooks/data_table.ipynb>data table notebook</a>'\n",
              "            + ' to learn more about interactive tables.';\n",
              "          element.innerHTML = '';\n",
              "          dataTable['output_type'] = 'display_data';\n",
              "          await google.colab.output.renderOutput(dataTable, element);\n",
              "          const docLink = document.createElement('div');\n",
              "          docLink.innerHTML = docLinkHtml;\n",
              "          element.appendChild(docLink);\n",
              "        }\n",
              "      </script>\n",
              "    </div>\n",
              "  </div>\n",
              "  "
            ]
          },
          "metadata": {},
          "execution_count": 12
        }
      ]
    },
    {
      "cell_type": "code",
      "source": [
        "#A sabiendas que son de diferentes tipos de texto pero por lo general son registros que se hacen de manera casi simultanea, lo mejor para agilizar este caso \n",
        "#sería sustituir con el metodo de bfill o ffill\n",
        "cual[\"_title\"]=cual[\"_title\"].fillna(method=\"ffill\")\n",
        "cual[\"plates\"]=cual[\"plates\"].fillna(method=\"bfill\")\n",
        "cual[\"company_if_visible\"]=cual[\"company_if_visible\"].fillna(method=\"ffill\")"
      ],
      "metadata": {
        "id": "9Cq8kK9hDdPk"
      },
      "execution_count": null,
      "outputs": []
    },
    {
      "cell_type": "code",
      "source": [
        "#Vamos verificando que los reaultados sean correctos, marcando todos los valores como no nulos o marcando 0 nulos con .info() o identificación de nulos respect.\n",
        "#cual.info()\n",
        "#Identificar valores nulos por columna\n",
        "valores_nulos=cual.isnull().sum()\n",
        "valores_nulos"
      ],
      "metadata": {
        "colab": {
          "base_uri": "https://localhost:8080/"
        },
        "id": "zq3doxieEP28",
        "outputId": "bc3d061a-776a-4223-c798-078aa8d60a4f"
      },
      "execution_count": 17,
      "outputs": [
        {
          "output_type": "execute_result",
          "data": {
            "text/plain": [
              "_record_id                               0\n",
              "_title                                   0\n",
              "_server_updated_at                       0\n",
              "_updated_by                              0\n",
              "_geometry                                0\n",
              "arrival_of_the_freight_vehicle           0\n",
              "plates                                   0\n",
              "company_if_visible                       0\n",
              "visit_purpose                            0\n",
              "type_of_vehicle                          0\n",
              "refrigerated_truck                       0\n",
              "type_of_cargo                            0\n",
              "picture_of_the_parked_freight_vehicle    0\n",
              "departure_of_the_freight_vehicle         0\n",
              "where_was_the_vehicle_parked             0\n",
              "while_parked_was_the_engine_running      0\n",
              "used_traffic_cone                        0\n",
              "vehicles_unloading_door                  0\n",
              "garage_blocking                          0\n",
              "accident                                 0\n",
              "noise                                    0\n",
              "traffic_congestion                       0\n",
              "dtype: int64"
            ]
          },
          "metadata": {},
          "execution_count": 17
        }
      ]
    },
    {
      "cell_type": "markdown",
      "source": [
        "De esta manera quedaron listas las columnas sin nulos, ahora se aplicara a las cuantitativas"
      ],
      "metadata": {
        "id": "VlgK_I6fE_8a"
      }
    },
    {
      "cell_type": "code",
      "source": [
        "cuant.info()\n",
        "#Con esto corroboramos que no hay ningun valor nulo en las columnas cuantitativas, por lo que ahora procederemos a identificar los outliers"
      ],
      "metadata": {
        "colab": {
          "base_uri": "https://localhost:8080/"
        },
        "id": "O6OwLMemFAm4",
        "outputId": "5ce7ae34-4eeb-4e78-ac92-a5bd1f0715d4"
      },
      "execution_count": 18,
      "outputs": [
        {
          "output_type": "stream",
          "name": "stdout",
          "text": [
            "<class 'pandas.core.frame.DataFrame'>\n",
            "RangeIndex: 182 entries, 0 to 181\n",
            "Data columns (total 4 columns):\n",
            " #   Column                        Non-Null Count  Dtype  \n",
            "---  ------                        --------------  -----  \n",
            " 0   _latitude                     182 non-null    float64\n",
            " 1   _longitude                    182 non-null    float64\n",
            " 2   number_of_operators           182 non-null    int64  \n",
            " 3   number_of_available_trolleys  182 non-null    int64  \n",
            "dtypes: float64(2), int64(2)\n",
            "memory usage: 5.8 KB\n"
          ]
        }
      ]
    },
    {
      "cell_type": "code",
      "source": [
        "cuant.head()\n",
        "#De acuerdo a la información que nos presenta, solo a la lalitud y longitud no le podremos aplicar outliers pues ya que estos debemos estar concientes\n",
        "#que dentro del rango que estan, pueden variar ya que estamos tomando la información en puntos posiblemente muy diferentes de la ciudad\n",
        "#y también creo que desde un inicio podemos determinar que no habrá Outliers en estos casos"
      ],
      "metadata": {
        "colab": {
          "base_uri": "https://localhost:8080/",
          "height": 206
        },
        "id": "uJtMNlr3FO73",
        "outputId": "e4057163-3214-4f6b-d1e9-9e1ed54f270d"
      },
      "execution_count": 20,
      "outputs": [
        {
          "output_type": "execute_result",
          "data": {
            "text/plain": [
              "   _latitude  _longitude  number_of_operators  number_of_available_trolleys\n",
              "0  19.056893  -98.233489                    1                             1\n",
              "1  19.056849  -98.233484                    2                             1\n",
              "2  19.059677  -98.233916                    1                             0\n",
              "3  19.062695  -98.228567                    1                             2\n",
              "4  19.062724  -98.231397                    2                             2"
            ],
            "text/html": [
              "\n",
              "  <div id=\"df-4d415be0-d738-4f2b-94c7-cd6fa134c72f\">\n",
              "    <div class=\"colab-df-container\">\n",
              "      <div>\n",
              "<style scoped>\n",
              "    .dataframe tbody tr th:only-of-type {\n",
              "        vertical-align: middle;\n",
              "    }\n",
              "\n",
              "    .dataframe tbody tr th {\n",
              "        vertical-align: top;\n",
              "    }\n",
              "\n",
              "    .dataframe thead th {\n",
              "        text-align: right;\n",
              "    }\n",
              "</style>\n",
              "<table border=\"1\" class=\"dataframe\">\n",
              "  <thead>\n",
              "    <tr style=\"text-align: right;\">\n",
              "      <th></th>\n",
              "      <th>_latitude</th>\n",
              "      <th>_longitude</th>\n",
              "      <th>number_of_operators</th>\n",
              "      <th>number_of_available_trolleys</th>\n",
              "    </tr>\n",
              "  </thead>\n",
              "  <tbody>\n",
              "    <tr>\n",
              "      <th>0</th>\n",
              "      <td>19.056893</td>\n",
              "      <td>-98.233489</td>\n",
              "      <td>1</td>\n",
              "      <td>1</td>\n",
              "    </tr>\n",
              "    <tr>\n",
              "      <th>1</th>\n",
              "      <td>19.056849</td>\n",
              "      <td>-98.233484</td>\n",
              "      <td>2</td>\n",
              "      <td>1</td>\n",
              "    </tr>\n",
              "    <tr>\n",
              "      <th>2</th>\n",
              "      <td>19.059677</td>\n",
              "      <td>-98.233916</td>\n",
              "      <td>1</td>\n",
              "      <td>0</td>\n",
              "    </tr>\n",
              "    <tr>\n",
              "      <th>3</th>\n",
              "      <td>19.062695</td>\n",
              "      <td>-98.228567</td>\n",
              "      <td>1</td>\n",
              "      <td>2</td>\n",
              "    </tr>\n",
              "    <tr>\n",
              "      <th>4</th>\n",
              "      <td>19.062724</td>\n",
              "      <td>-98.231397</td>\n",
              "      <td>2</td>\n",
              "      <td>2</td>\n",
              "    </tr>\n",
              "  </tbody>\n",
              "</table>\n",
              "</div>\n",
              "      <button class=\"colab-df-convert\" onclick=\"convertToInteractive('df-4d415be0-d738-4f2b-94c7-cd6fa134c72f')\"\n",
              "              title=\"Convert this dataframe to an interactive table.\"\n",
              "              style=\"display:none;\">\n",
              "        \n",
              "  <svg xmlns=\"http://www.w3.org/2000/svg\" height=\"24px\"viewBox=\"0 0 24 24\"\n",
              "       width=\"24px\">\n",
              "    <path d=\"M0 0h24v24H0V0z\" fill=\"none\"/>\n",
              "    <path d=\"M18.56 5.44l.94 2.06.94-2.06 2.06-.94-2.06-.94-.94-2.06-.94 2.06-2.06.94zm-11 1L8.5 8.5l.94-2.06 2.06-.94-2.06-.94L8.5 2.5l-.94 2.06-2.06.94zm10 10l.94 2.06.94-2.06 2.06-.94-2.06-.94-.94-2.06-.94 2.06-2.06.94z\"/><path d=\"M17.41 7.96l-1.37-1.37c-.4-.4-.92-.59-1.43-.59-.52 0-1.04.2-1.43.59L10.3 9.45l-7.72 7.72c-.78.78-.78 2.05 0 2.83L4 21.41c.39.39.9.59 1.41.59.51 0 1.02-.2 1.41-.59l7.78-7.78 2.81-2.81c.8-.78.8-2.07 0-2.86zM5.41 20L4 18.59l7.72-7.72 1.47 1.35L5.41 20z\"/>\n",
              "  </svg>\n",
              "      </button>\n",
              "      \n",
              "  <style>\n",
              "    .colab-df-container {\n",
              "      display:flex;\n",
              "      flex-wrap:wrap;\n",
              "      gap: 12px;\n",
              "    }\n",
              "\n",
              "    .colab-df-convert {\n",
              "      background-color: #E8F0FE;\n",
              "      border: none;\n",
              "      border-radius: 50%;\n",
              "      cursor: pointer;\n",
              "      display: none;\n",
              "      fill: #1967D2;\n",
              "      height: 32px;\n",
              "      padding: 0 0 0 0;\n",
              "      width: 32px;\n",
              "    }\n",
              "\n",
              "    .colab-df-convert:hover {\n",
              "      background-color: #E2EBFA;\n",
              "      box-shadow: 0px 1px 2px rgba(60, 64, 67, 0.3), 0px 1px 3px 1px rgba(60, 64, 67, 0.15);\n",
              "      fill: #174EA6;\n",
              "    }\n",
              "\n",
              "    [theme=dark] .colab-df-convert {\n",
              "      background-color: #3B4455;\n",
              "      fill: #D2E3FC;\n",
              "    }\n",
              "\n",
              "    [theme=dark] .colab-df-convert:hover {\n",
              "      background-color: #434B5C;\n",
              "      box-shadow: 0px 1px 3px 1px rgba(0, 0, 0, 0.15);\n",
              "      filter: drop-shadow(0px 1px 2px rgba(0, 0, 0, 0.3));\n",
              "      fill: #FFFFFF;\n",
              "    }\n",
              "  </style>\n",
              "\n",
              "      <script>\n",
              "        const buttonEl =\n",
              "          document.querySelector('#df-4d415be0-d738-4f2b-94c7-cd6fa134c72f button.colab-df-convert');\n",
              "        buttonEl.style.display =\n",
              "          google.colab.kernel.accessAllowed ? 'block' : 'none';\n",
              "\n",
              "        async function convertToInteractive(key) {\n",
              "          const element = document.querySelector('#df-4d415be0-d738-4f2b-94c7-cd6fa134c72f');\n",
              "          const dataTable =\n",
              "            await google.colab.kernel.invokeFunction('convertToInteractive',\n",
              "                                                     [key], {});\n",
              "          if (!dataTable) return;\n",
              "\n",
              "          const docLinkHtml = 'Like what you see? Visit the ' +\n",
              "            '<a target=\"_blank\" href=https://colab.research.google.com/notebooks/data_table.ipynb>data table notebook</a>'\n",
              "            + ' to learn more about interactive tables.';\n",
              "          element.innerHTML = '';\n",
              "          dataTable['output_type'] = 'display_data';\n",
              "          await google.colab.output.renderOutput(dataTable, element);\n",
              "          const docLink = document.createElement('div');\n",
              "          docLink.innerHTML = docLinkHtml;\n",
              "          element.appendChild(docLink);\n",
              "        }\n",
              "      </script>\n",
              "    </div>\n",
              "  </div>\n",
              "  "
            ]
          },
          "metadata": {},
          "execution_count": 20
        }
      ]
    },
    {
      "cell_type": "code",
      "source": [
        "#Filtro por columnas dejando fuera las 2 mencionadas anteriormente\n",
        "cuant1=cuant.iloc[ : , 2:4]\n",
        "cuant1"
      ],
      "metadata": {
        "colab": {
          "base_uri": "https://localhost:8080/",
          "height": 424
        },
        "id": "mQnf_chXFonf",
        "outputId": "dd2b9558-599a-486e-97e1-d0bdeb632cc7"
      },
      "execution_count": 22,
      "outputs": [
        {
          "output_type": "execute_result",
          "data": {
            "text/plain": [
              "     number_of_operators  number_of_available_trolleys\n",
              "0                      1                             1\n",
              "1                      2                             1\n",
              "2                      1                             0\n",
              "3                      1                             2\n",
              "4                      2                             2\n",
              "..                   ...                           ...\n",
              "177                    1                             0\n",
              "178                    1                             0\n",
              "179                    1                             1\n",
              "180                    2                             0\n",
              "181                    2                             1\n",
              "\n",
              "[182 rows x 2 columns]"
            ],
            "text/html": [
              "\n",
              "  <div id=\"df-c69223bd-5d3f-4aee-b6f7-f328652fe359\">\n",
              "    <div class=\"colab-df-container\">\n",
              "      <div>\n",
              "<style scoped>\n",
              "    .dataframe tbody tr th:only-of-type {\n",
              "        vertical-align: middle;\n",
              "    }\n",
              "\n",
              "    .dataframe tbody tr th {\n",
              "        vertical-align: top;\n",
              "    }\n",
              "\n",
              "    .dataframe thead th {\n",
              "        text-align: right;\n",
              "    }\n",
              "</style>\n",
              "<table border=\"1\" class=\"dataframe\">\n",
              "  <thead>\n",
              "    <tr style=\"text-align: right;\">\n",
              "      <th></th>\n",
              "      <th>number_of_operators</th>\n",
              "      <th>number_of_available_trolleys</th>\n",
              "    </tr>\n",
              "  </thead>\n",
              "  <tbody>\n",
              "    <tr>\n",
              "      <th>0</th>\n",
              "      <td>1</td>\n",
              "      <td>1</td>\n",
              "    </tr>\n",
              "    <tr>\n",
              "      <th>1</th>\n",
              "      <td>2</td>\n",
              "      <td>1</td>\n",
              "    </tr>\n",
              "    <tr>\n",
              "      <th>2</th>\n",
              "      <td>1</td>\n",
              "      <td>0</td>\n",
              "    </tr>\n",
              "    <tr>\n",
              "      <th>3</th>\n",
              "      <td>1</td>\n",
              "      <td>2</td>\n",
              "    </tr>\n",
              "    <tr>\n",
              "      <th>4</th>\n",
              "      <td>2</td>\n",
              "      <td>2</td>\n",
              "    </tr>\n",
              "    <tr>\n",
              "      <th>...</th>\n",
              "      <td>...</td>\n",
              "      <td>...</td>\n",
              "    </tr>\n",
              "    <tr>\n",
              "      <th>177</th>\n",
              "      <td>1</td>\n",
              "      <td>0</td>\n",
              "    </tr>\n",
              "    <tr>\n",
              "      <th>178</th>\n",
              "      <td>1</td>\n",
              "      <td>0</td>\n",
              "    </tr>\n",
              "    <tr>\n",
              "      <th>179</th>\n",
              "      <td>1</td>\n",
              "      <td>1</td>\n",
              "    </tr>\n",
              "    <tr>\n",
              "      <th>180</th>\n",
              "      <td>2</td>\n",
              "      <td>0</td>\n",
              "    </tr>\n",
              "    <tr>\n",
              "      <th>181</th>\n",
              "      <td>2</td>\n",
              "      <td>1</td>\n",
              "    </tr>\n",
              "  </tbody>\n",
              "</table>\n",
              "<p>182 rows × 2 columns</p>\n",
              "</div>\n",
              "      <button class=\"colab-df-convert\" onclick=\"convertToInteractive('df-c69223bd-5d3f-4aee-b6f7-f328652fe359')\"\n",
              "              title=\"Convert this dataframe to an interactive table.\"\n",
              "              style=\"display:none;\">\n",
              "        \n",
              "  <svg xmlns=\"http://www.w3.org/2000/svg\" height=\"24px\"viewBox=\"0 0 24 24\"\n",
              "       width=\"24px\">\n",
              "    <path d=\"M0 0h24v24H0V0z\" fill=\"none\"/>\n",
              "    <path d=\"M18.56 5.44l.94 2.06.94-2.06 2.06-.94-2.06-.94-.94-2.06-.94 2.06-2.06.94zm-11 1L8.5 8.5l.94-2.06 2.06-.94-2.06-.94L8.5 2.5l-.94 2.06-2.06.94zm10 10l.94 2.06.94-2.06 2.06-.94-2.06-.94-.94-2.06-.94 2.06-2.06.94z\"/><path d=\"M17.41 7.96l-1.37-1.37c-.4-.4-.92-.59-1.43-.59-.52 0-1.04.2-1.43.59L10.3 9.45l-7.72 7.72c-.78.78-.78 2.05 0 2.83L4 21.41c.39.39.9.59 1.41.59.51 0 1.02-.2 1.41-.59l7.78-7.78 2.81-2.81c.8-.78.8-2.07 0-2.86zM5.41 20L4 18.59l7.72-7.72 1.47 1.35L5.41 20z\"/>\n",
              "  </svg>\n",
              "      </button>\n",
              "      \n",
              "  <style>\n",
              "    .colab-df-container {\n",
              "      display:flex;\n",
              "      flex-wrap:wrap;\n",
              "      gap: 12px;\n",
              "    }\n",
              "\n",
              "    .colab-df-convert {\n",
              "      background-color: #E8F0FE;\n",
              "      border: none;\n",
              "      border-radius: 50%;\n",
              "      cursor: pointer;\n",
              "      display: none;\n",
              "      fill: #1967D2;\n",
              "      height: 32px;\n",
              "      padding: 0 0 0 0;\n",
              "      width: 32px;\n",
              "    }\n",
              "\n",
              "    .colab-df-convert:hover {\n",
              "      background-color: #E2EBFA;\n",
              "      box-shadow: 0px 1px 2px rgba(60, 64, 67, 0.3), 0px 1px 3px 1px rgba(60, 64, 67, 0.15);\n",
              "      fill: #174EA6;\n",
              "    }\n",
              "\n",
              "    [theme=dark] .colab-df-convert {\n",
              "      background-color: #3B4455;\n",
              "      fill: #D2E3FC;\n",
              "    }\n",
              "\n",
              "    [theme=dark] .colab-df-convert:hover {\n",
              "      background-color: #434B5C;\n",
              "      box-shadow: 0px 1px 3px 1px rgba(0, 0, 0, 0.15);\n",
              "      filter: drop-shadow(0px 1px 2px rgba(0, 0, 0, 0.3));\n",
              "      fill: #FFFFFF;\n",
              "    }\n",
              "  </style>\n",
              "\n",
              "      <script>\n",
              "        const buttonEl =\n",
              "          document.querySelector('#df-c69223bd-5d3f-4aee-b6f7-f328652fe359 button.colab-df-convert');\n",
              "        buttonEl.style.display =\n",
              "          google.colab.kernel.accessAllowed ? 'block' : 'none';\n",
              "\n",
              "        async function convertToInteractive(key) {\n",
              "          const element = document.querySelector('#df-c69223bd-5d3f-4aee-b6f7-f328652fe359');\n",
              "          const dataTable =\n",
              "            await google.colab.kernel.invokeFunction('convertToInteractive',\n",
              "                                                     [key], {});\n",
              "          if (!dataTable) return;\n",
              "\n",
              "          const docLinkHtml = 'Like what you see? Visit the ' +\n",
              "            '<a target=\"_blank\" href=https://colab.research.google.com/notebooks/data_table.ipynb>data table notebook</a>'\n",
              "            + ' to learn more about interactive tables.';\n",
              "          element.innerHTML = '';\n",
              "          dataTable['output_type'] = 'display_data';\n",
              "          await google.colab.output.renderOutput(dataTable, element);\n",
              "          const docLink = document.createElement('div');\n",
              "          docLink.innerHTML = docLinkHtml;\n",
              "          element.appendChild(docLink);\n",
              "        }\n",
              "      </script>\n",
              "    </div>\n",
              "  </div>\n",
              "  "
            ]
          },
          "metadata": {},
          "execution_count": 22
        }
      ]
    },
    {
      "cell_type": "code",
      "source": [
        "#Realizamos diagrama de caja o bigote de cada columna del dataframe\n",
        "fig = plt.figure(figsize =(15, 8))\n",
        "cuant1.plot(kind='box', vert=False)\n",
        "plt.title(\"Valores Atípicos del Dataframe\")\n",
        "plt.show() #dibujamos el diagrama y nos damos cuenta que si se presentan outliers por ello era importante seguir con el analisis"
      ],
      "metadata": {
        "colab": {
          "base_uri": "https://localhost:8080/",
          "height": 298
        },
        "id": "Y562enCiF1Mc",
        "outputId": "5c225b99-b30d-4738-eb92-bbe886f736dc"
      },
      "execution_count": 24,
      "outputs": [
        {
          "output_type": "display_data",
          "data": {
            "text/plain": [
              "<Figure size 1080x576 with 0 Axes>"
            ]
          },
          "metadata": {}
        },
        {
          "output_type": "display_data",
          "data": {
            "text/plain": [
              "<Figure size 432x288 with 1 Axes>"
            ],
            "image/png": "[encoded data removed]"
          },
          "metadata": {
            "needs_background": "light"
          }
        }
      ]
    },
    {
      "cell_type": "code",
      "source": [
        "#Método aplicando desviación estandar. Encuentro los valores extremos || Use este metodo ya que estamos hablando de valores de la vida real por lo que de\n",
        "#antemano sabemos que deben o pueden variar mucho entre sí y para tener una mayor consideración con el número final de datos ya que son muy pequeños también\n",
        "#como podemos observar en el eje de las x\n",
        "y=cuant1\n",
        "Limite_Superior= y.mean() + 3*y.std()\n",
        "Limite_Inferior= y.mean() - 3*y.std()\n",
        "print(\"Limite superior permitido: \", Limite_Superior)\n",
        "print(\"Limite inferior permitido: \", Limite_Inferior)"
      ],
      "metadata": {
        "id": "xbaTO00-GEPG"
      },
      "execution_count": null,
      "outputs": []
    },
    {
      "cell_type": "code",
      "source": [
        "#Encontramos Ouliers del Dataframe\n",
        "outliers=cuant1[(y>Limite_Superior)|(y<Limite_Inferior)]\n",
        "outliers"
      ],
      "metadata": {
        "id": "plHf1rCmGSrl"
      },
      "execution_count": null,
      "outputs": []
    },
    {
      "cell_type": "code",
      "source": [
        "#Obtenemos datos y los outliers se convierten en nulos en el DataFrame\n",
        "cuant2= cuant1[(y<=Limite_Superior)&(y>=Limite_Inferior)]\n",
        "cuant2"
      ],
      "metadata": {
        "id": "oamA9H7XGV09"
      },
      "execution_count": null,
      "outputs": []
    },
    {
      "cell_type": "code",
      "source": [
        "#Corroboramos valores nulos del dataframe4 || Observamos que son pocos gracias a la tecnica de desviación, por lo que ahora sería bueno sustituir con medidas\n",
        "#de tendencia central para garantizar que no haya sesgos importantes en las mismas\n",
        "valores_nulos=cuant2.isnull().sum()\n",
        "valores_nulos"
      ],
      "metadata": {
        "colab": {
          "base_uri": "https://localhost:8080/"
        },
        "id": "NPaTexYwGbTq",
        "outputId": "30f07940-82de-4bb9-c91b-fea02be9cfbf"
      },
      "execution_count": 29,
      "outputs": [
        {
          "output_type": "execute_result",
          "data": {
            "text/plain": [
              "number_of_operators             2\n",
              "number_of_available_trolleys    2\n",
              "dtype: int64"
            ]
          },
          "metadata": {},
          "execution_count": 29
        }
      ]
    },
    {
      "cell_type": "code",
      "source": [
        "#Sustituir valores nulos con promedio o mediana\n",
        "cuant2[\"number_of_operators\"]=cuant2[\"number_of_operators\"].fillna(round(cuant2[\"number_of_operators\"].mean(),1))\n",
        "cuant2[\"number_of_available_trolleys\"]=cuant2[\"number_of_available_trolleys\"].fillna(round(cuant2[\"number_of_available_trolleys\"].mean(),1))"
      ],
      "metadata": {
        "id": "NeheairqGn8Z"
      },
      "execution_count": 30,
      "outputs": []
    },
    {
      "cell_type": "code",
      "source": [
        "valores_nulos=cuant2.isnull().sum()\n",
        "valores_nulos"
      ],
      "metadata": {
        "colab": {
          "base_uri": "https://localhost:8080/"
        },
        "id": "4SQzEv58G0Uw",
        "outputId": "cbb98c1a-37a9-434d-e39d-5f523cbf7ceb"
      },
      "execution_count": 31,
      "outputs": [
        {
          "output_type": "execute_result",
          "data": {
            "text/plain": [
              "number_of_operators             0\n",
              "number_of_available_trolleys    0\n",
              "dtype: int64"
            ]
          },
          "metadata": {},
          "execution_count": 31
        }
      ]
    },
    {
      "cell_type": "code",
      "source": [
        "#Filtro por columnas\n",
        "faltantes=cuant.iloc[ : , [0,1]]\n",
        "faltantes"
      ],
      "metadata": {
        "id": "UhrLH_0XFnai"
      },
      "execution_count": null,
      "outputs": []
    },
    {
      "cell_type": "code",
      "source": [
        "# Unimos las columnas faltantes con el dataframe de cuantitativas para hacerlo limpio\n",
        "cuantitativas= pd.concat([faltantes, cuant2], axis=1)\n",
        "cuantitativas.info()"
      ],
      "metadata": {
        "colab": {
          "base_uri": "https://localhost:8080/"
        },
        "id": "QVUNtZ7VHG7J",
        "outputId": "b44da360-85f3-47d0-fc10-0ef61ff8ecda"
      },
      "execution_count": 33,
      "outputs": [
        {
          "output_type": "stream",
          "name": "stdout",
          "text": [
            "<class 'pandas.core.frame.DataFrame'>\n",
            "RangeIndex: 182 entries, 0 to 181\n",
            "Data columns (total 4 columns):\n",
            " #   Column                        Non-Null Count  Dtype  \n",
            "---  ------                        --------------  -----  \n",
            " 0   _latitude                     182 non-null    float64\n",
            " 1   _longitude                    182 non-null    float64\n",
            " 2   number_of_operators           182 non-null    float64\n",
            " 3   number_of_available_trolleys  182 non-null    float64\n",
            "dtypes: float64(4)\n",
            "memory usage: 5.8 KB\n"
          ]
        }
      ]
    },
    {
      "cell_type": "code",
      "source": [
        "ConsumerLimpio= pd.concat([cuantitativas, cual], axis=1)\n",
        "ConsumerLimpio.info()"
      ],
      "metadata": {
        "colab": {
          "base_uri": "https://localhost:8080/"
        },
        "id": "BVdec4AfHQ6r",
        "outputId": "0f0c80f3-b59e-4117-9d35-150d9e851316"
      },
      "execution_count": 35,
      "outputs": [
        {
          "output_type": "stream",
          "name": "stdout",
          "text": [
            "<class 'pandas.core.frame.DataFrame'>\n",
            "RangeIndex: 182 entries, 0 to 181\n",
            "Data columns (total 26 columns):\n",
            " #   Column                                 Non-Null Count  Dtype  \n",
            "---  ------                                 --------------  -----  \n",
            " 0   _latitude                              182 non-null    float64\n",
            " 1   _longitude                             182 non-null    float64\n",
            " 2   number_of_operators                    182 non-null    float64\n",
            " 3   number_of_available_trolleys           182 non-null    float64\n",
            " 4   _record_id                             182 non-null    object \n",
            " 5   _title                                 182 non-null    object \n",
            " 6   _server_updated_at                     182 non-null    object \n",
            " 7   _updated_by                            182 non-null    object \n",
            " 8   _geometry                              182 non-null    object \n",
            " 9   arrival_of_the_freight_vehicle         182 non-null    object \n",
            " 10  plates                                 182 non-null    object \n",
            " 11  company_if_visible                     182 non-null    object \n",
            " 12  visit_purpose                          182 non-null    object \n",
            " 13  type_of_vehicle                        182 non-null    object \n",
            " 14  refrigerated_truck                     182 non-null    object \n",
            " 15  type_of_cargo                          182 non-null    object \n",
            " 16  picture_of_the_parked_freight_vehicle  182 non-null    object \n",
            " 17  departure_of_the_freight_vehicle       182 non-null    object \n",
            " 18  where_was_the_vehicle_parked           182 non-null    object \n",
            " 19  while_parked_was_the_engine_running    182 non-null    object \n",
            " 20  used_traffic_cone                      182 non-null    object \n",
            " 21  vehicles_unloading_door                182 non-null    object \n",
            " 22  garage_blocking                        182 non-null    object \n",
            " 23  accident                               182 non-null    object \n",
            " 24  noise                                  182 non-null    object \n",
            " 25  traffic_congestion                     182 non-null    object \n",
            "dtypes: float64(4), object(22)\n",
            "memory usage: 37.1+ KB\n"
          ]
        }
      ]
    },
    {
      "cell_type": "markdown",
      "source": [
        "Nuevamente el dataframe ya no tiene el mismo tamaño pues recordemos que eliminamos 3 variables que no eran relevantes por su tamaño e información"
      ],
      "metadata": {
        "id": "24QgZ2WLHZHN"
      }
    },
    {
      "cell_type": "code",
      "source": [
        "#Corroboramos valores nulos en todo el dataframe\n",
        "valores_nulos=ConsumerLimpio.isnull().sum().sum()\n",
        "valores_nulos"
      ],
      "metadata": {
        "colab": {
          "base_uri": "https://localhost:8080/"
        },
        "id": "sSWZbJgDHi7c",
        "outputId": "3bd2bebe-ff72-4fdf-bd02-0032fb50c7f9"
      },
      "execution_count": 36,
      "outputs": [
        {
          "output_type": "execute_result",
          "data": {
            "text/plain": [
              "0"
            ]
          },
          "metadata": {},
          "execution_count": 36
        }
      ]
    },
    {
      "cell_type": "code",
      "source": [
        "#Convertir DataFrame a CSV\n",
        "ConsumerLimpio.to_csv(\"LastMileLimpio.csv\")"
      ],
      "metadata": {
        "id": "a8oVXehOHu03"
      },
      "execution_count": 37,
      "outputs": []
    },
    {
      "cell_type": "code",
      "source": [
        "#descargar archivo filtrado en csv\n",
        "from google.colab import files \n",
        "files.download(\"LastMileLimpio.csv\")"
      ],
      "metadata": {
        "colab": {
          "base_uri": "https://localhost:8080/",
          "height": 17
        },
        "id": "zbTIgusWH1G6",
        "outputId": "38599cef-48a0-454a-d3ef-53cc24d08596"
      },
      "execution_count": 38,
      "outputs": [
        {
          "output_type": "display_data",
          "data": {
            "text/plain": [
              "<IPython.core.display.Javascript object>"
            ],
            "application/javascript": [
              "\n",
              "    async function download(id, filename, size) {\n",
              "      if (!google.colab.kernel.accessAllowed) {\n",
              "        return;\n",
              "      }\n",
              "      const div = document.createElement('div');\n",
              "      const label = document.createElement('label');\n",
              "      label.textContent = `Downloading \"${filename}\": `;\n",
              "      div.appendChild(label);\n",
              "      const progress = document.createElement('progress');\n",
              "      progress.max = size;\n",
              "      div.appendChild(progress);\n",
              "      document.body.appendChild(div);\n",
              "\n",
              "      const buffers = [];\n",
              "      let downloaded = 0;\n",
              "\n",
              "      const channel = await google.colab.kernel.comms.open(id);\n",
              "      // Send a message to notify the kernel that we're ready.\n",
              "      channel.send({})\n",
              "\n",
              "      for await (const message of channel.messages) {\n",
              "        // Send a message to notify the kernel that we're ready.\n",
              "        channel.send({})\n",
              "        if (message.buffers) {\n",
              "          for (const buffer of message.buffers) {\n",
              "            buffers.push(buffer);\n",
              "            downloaded += buffer.byteLength;\n",
              "            progress.value = downloaded;\n",
              "          }\n",
              "        }\n",
              "      }\n",
              "      const blob = new Blob(buffers, {type: 'application/binary'});\n",
              "      const a = document.createElement('a');\n",
              "      a.href = window.URL.createObjectURL(blob);\n",
              "      a.download = filename;\n",
              "      div.appendChild(a);\n",
              "      a.click();\n",
              "      div.remove();\n",
              "    }\n",
              "  "
            ]
          },
          "metadata": {}
        },
        {
          "output_type": "display_data",
          "data": {
            "text/plain": [
              "<IPython.core.display.Javascript object>"
            ],
            "application/javascript": [
              "download(\"download_ef4515fa-afea-436d-a2a8-49b7a6ea3db3\", \"LastMileLimpio.csv\", 85671)"
            ]
          },
          "metadata": {}
        }
      ]
    }
  ]
}
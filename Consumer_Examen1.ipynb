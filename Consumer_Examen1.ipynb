{
  "nbformat": 4,
  "nbformat_minor": 0,
  "metadata": {
    "colab": {
      "provenance": [],
      "authorship_tag": "ABX9TyMSCvqiRF6bC7bBN+slyKpt",
      "include_colab_link": true
    },
    "kernelspec": {
      "name": "python3",
      "display_name": "Python 3"
    },
    "language_info": {
      "name": "python"
    }
  },
  "cells": [
    {
      "cell_type": "markdown",
      "metadata": {
        "id": "view-in-github",
        "colab_type": "text"
      },
      "source": [
        "<a href=\"https://colab.research.google.com/github/TACH00/Examen1/blob/main/Consumer_Examen1.ipynb\" target=\"_parent\"><img src=\"https://colab.research.google.com/assets/colab-badge.svg\" alt=\"Open In Colab\"/></a>"
      ]
    },
    {
      "cell_type": "code",
      "source": [
        "%pip install funpymodeling"
      ],
      "metadata": {
        "id": "KJyzST9wEGN5"
      },
      "execution_count": null,
      "outputs": []
    },
    {
      "cell_type": "code",
      "execution_count": 3,
      "metadata": {
        "id": "gmGGLBA1ibtV"
      },
      "outputs": [],
      "source": [
        "#Importamos librerias requeridas\n",
        "import pandas as pd\n",
        "import numpy as np\n",
        "import matplotlib.pyplot as plt\n",
        "from funpymodeling.exploratory import freq_tbl"
      ]
    },
    {
      "cell_type": "code",
      "source": [
        "#Cargar archivo excel desde equipo\n",
        "from google.colab import files\n",
        "files.upload()"
      ],
      "metadata": {
        "id": "YCaj_bpxBoyj"
      },
      "execution_count": null,
      "outputs": []
    },
    {
      "cell_type": "code",
      "source": [
        "#Convertir en Dataframe\n",
        "df=pd.read_excel('consumer_mit_lift_lab.xlsx')\n",
        "df.head()"
      ],
      "metadata": {
        "id": "QcCuZNN9Bx4H"
      },
      "execution_count": null,
      "outputs": []
    },
    {
      "cell_type": "code",
      "source": [
        "#Verificamos información del DataFrame para reconocer las variables que son cuantitativas y cualitativas\n",
        "df.info()"
      ],
      "metadata": {
        "colab": {
          "base_uri": "https://localhost:8080/"
        },
        "id": "_u1UzULvCR2K",
        "outputId": "5110e757-fd50-422e-ef48-aadcb6552f76"
      },
      "execution_count": 116,
      "outputs": [
        {
          "output_type": "stream",
          "name": "stdout",
          "text": [
            "<class 'pandas.core.frame.DataFrame'>\n",
            "RangeIndex: 115 entries, 0 to 114\n",
            "Data columns (total 36 columns):\n",
            " #   Column                                    Non-Null Count  Dtype  \n",
            "---  ------                                    --------------  -----  \n",
            " 0   _record_id                                115 non-null    object \n",
            " 1   _title                                    115 non-null    object \n",
            " 2   _server_updated_at                        115 non-null    object \n",
            " 3   _updated_by                               115 non-null    object \n",
            " 4   _geometry                                 115 non-null    object \n",
            " 5   _latitude                                 115 non-null    float64\n",
            " 6   _longitude                                115 non-null    float64\n",
            " 7   282_payment_method_that_purchase          115 non-null    object \n",
            " 8   283_fulfill_needs                         115 non-null    object \n",
            " 9   300_did_not_find                          6 non-null      object \n",
            " 10  237_distance_household_interviewee        115 non-null    object \n",
            " 11  299_means_transportation_consumer         115 non-null    object \n",
            " 12  238_frequency_buying_store                115 non-null    int64  \n",
            " 13  284_additional_products_store             4 non-null      object \n",
            " 14  301_electricity_bill                      115 non-null    object \n",
            " 15  305_electricity_bill_store                108 non-null    object \n",
            " 16  302_water_bill                            115 non-null    object \n",
            " 17  306_water_bill_store                      111 non-null    object \n",
            " 18  303_gas_bill                              115 non-null    object \n",
            " 19  307_gas_bill_store                        112 non-null    object \n",
            " 20  286_topups                                115 non-null    object \n",
            " 21  308_topups_in_store                       103 non-null    object \n",
            " 22  287_wire_transfers                        115 non-null    object \n",
            " 23  309_wiretransfers_in_store                113 non-null    object \n",
            " 24  320_other_services_in_store               115 non-null    object \n",
            " 25  304_additional_services_store             29 non-null     object \n",
            " 26  81_number_online_purchases_month          115 non-null    int64  \n",
            " 27  288_number_app_purchases_month            115 non-null    int64  \n",
            " 28  289_number_whatsapp_purchases_month       115 non-null    int64  \n",
            " 29  83_willingness_ultrafast_delivery         115 non-null    int64  \n",
            " 30  84_willingness_sameday_delivery           115 non-null    int64  \n",
            " 31  241_age_of_the_interviewee                115 non-null    int64  \n",
            " 32  240_gender_interviewee                    115 non-null    object \n",
            " 33  indicate_the_type_of_store                115 non-null    object \n",
            " 34  name_of_the_store                         115 non-null    object \n",
            " 35  storefront_picture_just_once_if_possible  104 non-null    object \n",
            "dtypes: float64(2), int64(7), object(27)\n",
            "memory usage: 32.5+ KB\n"
          ]
        }
      ]
    },
    {
      "cell_type": "code",
      "source": [
        "#Filtro por columnas, de acuerdo a la información obtenida arriba obtenemos las cuantitativas\n",
        "cuant=df.iloc[ : , [5,6,12,26,27,28,29,30,31]]  #columnas no consecutivas \n",
        "cuant"
      ],
      "metadata": {
        "id": "ALgf7yv2G5iy"
      },
      "execution_count": null,
      "outputs": []
    },
    {
      "cell_type": "code",
      "source": [
        "cuant.info() #Verificamos que los datos correspondan al tipo entero o float"
      ],
      "metadata": {
        "colab": {
          "base_uri": "https://localhost:8080/"
        },
        "id": "79ZOMTsxRcne",
        "outputId": "30f97b98-23a7-413c-c089-8ce366bdfefd"
      },
      "execution_count": 114,
      "outputs": [
        {
          "output_type": "stream",
          "name": "stdout",
          "text": [
            "<class 'pandas.core.frame.DataFrame'>\n",
            "RangeIndex: 115 entries, 0 to 114\n",
            "Data columns (total 9 columns):\n",
            " #   Column                               Non-Null Count  Dtype  \n",
            "---  ------                               --------------  -----  \n",
            " 0   _latitude                            115 non-null    float64\n",
            " 1   _longitude                           115 non-null    float64\n",
            " 2   238_frequency_buying_store           115 non-null    int64  \n",
            " 3   81_number_online_purchases_month     115 non-null    int64  \n",
            " 4   288_number_app_purchases_month       115 non-null    int64  \n",
            " 5   289_number_whatsapp_purchases_month  115 non-null    int64  \n",
            " 6   83_willingness_ultrafast_delivery    115 non-null    int64  \n",
            " 7   84_willingness_sameday_delivery      115 non-null    int64  \n",
            " 8   241_age_of_the_interviewee           115 non-null    int64  \n",
            "dtypes: float64(2), int64(7)\n",
            "memory usage: 8.2 KB\n"
          ]
        }
      ]
    },
    {
      "cell_type": "code",
      "source": [
        "#Filtro por columnas, de acuerdo a la información obtenida arriba obtenemos las cualitativas\n",
        "cual=df.iloc[ : , [0,1,2,3,4,7,8,9,10,11,13,14,15,16,17,18,19,20,21,22,23,24,25,32,33,34,35]]"
      ],
      "metadata": {
        "id": "xR4OXhc-SXNq"
      },
      "execution_count": 20,
      "outputs": []
    },
    {
      "cell_type": "code",
      "source": [
        "cual.info() #Verificamos que entre los datos no hayan cuantitativos y que la suma de ambos nuevos subdf de el total del df original"
      ],
      "metadata": {
        "colab": {
          "base_uri": "https://localhost:8080/"
        },
        "id": "oNgpdGrLTE7X",
        "outputId": "e311b691-3089-4cc1-c9de-483ef59763ae"
      },
      "execution_count": 118,
      "outputs": [
        {
          "output_type": "stream",
          "name": "stdout",
          "text": [
            "<class 'pandas.core.frame.DataFrame'>\n",
            "RangeIndex: 115 entries, 0 to 114\n",
            "Data columns (total 27 columns):\n",
            " #   Column                                    Non-Null Count  Dtype \n",
            "---  ------                                    --------------  ----- \n",
            " 0   _record_id                                115 non-null    object\n",
            " 1   _title                                    115 non-null    object\n",
            " 2   _server_updated_at                        115 non-null    object\n",
            " 3   _updated_by                               115 non-null    object\n",
            " 4   _geometry                                 115 non-null    object\n",
            " 5   282_payment_method_that_purchase          115 non-null    object\n",
            " 6   283_fulfill_needs                         115 non-null    object\n",
            " 7   300_did_not_find                          6 non-null      object\n",
            " 8   237_distance_household_interviewee        115 non-null    object\n",
            " 9   299_means_transportation_consumer         115 non-null    object\n",
            " 10  284_additional_products_store             4 non-null      object\n",
            " 11  301_electricity_bill                      115 non-null    object\n",
            " 12  305_electricity_bill_store                108 non-null    object\n",
            " 13  302_water_bill                            115 non-null    object\n",
            " 14  306_water_bill_store                      111 non-null    object\n",
            " 15  303_gas_bill                              115 non-null    object\n",
            " 16  307_gas_bill_store                        112 non-null    object\n",
            " 17  286_topups                                115 non-null    object\n",
            " 18  308_topups_in_store                       103 non-null    object\n",
            " 19  287_wire_transfers                        115 non-null    object\n",
            " 20  309_wiretransfers_in_store                113 non-null    object\n",
            " 21  320_other_services_in_store               115 non-null    object\n",
            " 22  304_additional_services_store             29 non-null     object\n",
            " 23  240_gender_interviewee                    115 non-null    object\n",
            " 24  indicate_the_type_of_store                115 non-null    object\n",
            " 25  name_of_the_store                         115 non-null    object\n",
            " 26  storefront_picture_just_once_if_possible  104 non-null    object\n",
            "dtypes: object(27)\n",
            "memory usage: 24.4+ KB\n"
          ]
        }
      ]
    },
    {
      "cell_type": "code",
      "source": [
        "#Eliminar columnas innecesarias, en este caso elimine aquellas que no representaban una cantidad significativa de acuerdo al total de datos (115), además que\n",
        "# la columna de las fotografias tenia nulos y no nos daba una información de calidad, por ende las elimine, para tener una mejor calidad de los datos \n",
        "cual1=cual.drop([\"300_did_not_find\", \"284_additional_products_store\", \"304_additional_services_store\", \"storefront_picture_just_once_if_possible\"], axis=1) #axis1=columnas y axis0=filas\n",
        "cual1.info()"
      ],
      "metadata": {
        "id": "H9nGRe5RTprY"
      },
      "execution_count": null,
      "outputs": []
    },
    {
      "cell_type": "code",
      "source": [
        "#Imprimo todas las columnas que aun contienen nulos para analizarla y así determinar que metodo de sustitución ocupar\n",
        "cual2=cual1.iloc[ : , [10,12,14,16,18]]  #columnas no consecutivas \n",
        "cual2"
      ],
      "metadata": {
        "colab": {
          "base_uri": "https://localhost:8080/",
          "height": 424
        },
        "id": "VGYzg__2xaBp",
        "outputId": "d1353316-f94c-4b4b-f05a-b2815b0f4b90"
      },
      "execution_count": 159,
      "outputs": [
        {
          "output_type": "execute_result",
          "data": {
            "text/plain": [
              "    305_electricity_bill_store 306_water_bill_store 307_gas_bill_store  \\\n",
              "0                           no                   no                 no   \n",
              "1                           no                   no                 no   \n",
              "2                          yes                  yes                yes   \n",
              "3                           no                   no                 no   \n",
              "4                           no                   no                 no   \n",
              "..                         ...                  ...                ...   \n",
              "110                         no                   no                 no   \n",
              "111                         no                   no                 no   \n",
              "112                         no                   no                 no   \n",
              "113                         no                   no                 no   \n",
              "114                         no                   no                 no   \n",
              "\n",
              "    308_topups_in_store 309_wiretransfers_in_store  \n",
              "0                    no                         no  \n",
              "1                    no                         no  \n",
              "2                   yes                         no  \n",
              "3                    no                         no  \n",
              "4                    no                         no  \n",
              "..                  ...                        ...  \n",
              "110                  no                         no  \n",
              "111                  no                         no  \n",
              "112                  no                         no  \n",
              "113                  no                         no  \n",
              "114                  no                         no  \n",
              "\n",
              "[115 rows x 5 columns]"
            ],
            "text/html": [
              "\n",
              "  <div id=\"df-5a70b15c-b483-411b-be02-7e09d61e810f\">\n",
              "    <div class=\"colab-df-container\">\n",
              "      <div>\n",
              "<style scoped>\n",
              "    .dataframe tbody tr th:only-of-type {\n",
              "        vertical-align: middle;\n",
              "    }\n",
              "\n",
              "    .dataframe tbody tr th {\n",
              "        vertical-align: top;\n",
              "    }\n",
              "\n",
              "    .dataframe thead th {\n",
              "        text-align: right;\n",
              "    }\n",
              "</style>\n",
              "<table border=\"1\" class=\"dataframe\">\n",
              "  <thead>\n",
              "    <tr style=\"text-align: right;\">\n",
              "      <th></th>\n",
              "      <th>305_electricity_bill_store</th>\n",
              "      <th>306_water_bill_store</th>\n",
              "      <th>307_gas_bill_store</th>\n",
              "      <th>308_topups_in_store</th>\n",
              "      <th>309_wiretransfers_in_store</th>\n",
              "    </tr>\n",
              "  </thead>\n",
              "  <tbody>\n",
              "    <tr>\n",
              "      <th>0</th>\n",
              "      <td>no</td>\n",
              "      <td>no</td>\n",
              "      <td>no</td>\n",
              "      <td>no</td>\n",
              "      <td>no</td>\n",
              "    </tr>\n",
              "    <tr>\n",
              "      <th>1</th>\n",
              "      <td>no</td>\n",
              "      <td>no</td>\n",
              "      <td>no</td>\n",
              "      <td>no</td>\n",
              "      <td>no</td>\n",
              "    </tr>\n",
              "    <tr>\n",
              "      <th>2</th>\n",
              "      <td>yes</td>\n",
              "      <td>yes</td>\n",
              "      <td>yes</td>\n",
              "      <td>yes</td>\n",
              "      <td>no</td>\n",
              "    </tr>\n",
              "    <tr>\n",
              "      <th>3</th>\n",
              "      <td>no</td>\n",
              "      <td>no</td>\n",
              "      <td>no</td>\n",
              "      <td>no</td>\n",
              "      <td>no</td>\n",
              "    </tr>\n",
              "    <tr>\n",
              "      <th>4</th>\n",
              "      <td>no</td>\n",
              "      <td>no</td>\n",
              "      <td>no</td>\n",
              "      <td>no</td>\n",
              "      <td>no</td>\n",
              "    </tr>\n",
              "    <tr>\n",
              "      <th>...</th>\n",
              "      <td>...</td>\n",
              "      <td>...</td>\n",
              "      <td>...</td>\n",
              "      <td>...</td>\n",
              "      <td>...</td>\n",
              "    </tr>\n",
              "    <tr>\n",
              "      <th>110</th>\n",
              "      <td>no</td>\n",
              "      <td>no</td>\n",
              "      <td>no</td>\n",
              "      <td>no</td>\n",
              "      <td>no</td>\n",
              "    </tr>\n",
              "    <tr>\n",
              "      <th>111</th>\n",
              "      <td>no</td>\n",
              "      <td>no</td>\n",
              "      <td>no</td>\n",
              "      <td>no</td>\n",
              "      <td>no</td>\n",
              "    </tr>\n",
              "    <tr>\n",
              "      <th>112</th>\n",
              "      <td>no</td>\n",
              "      <td>no</td>\n",
              "      <td>no</td>\n",
              "      <td>no</td>\n",
              "      <td>no</td>\n",
              "    </tr>\n",
              "    <tr>\n",
              "      <th>113</th>\n",
              "      <td>no</td>\n",
              "      <td>no</td>\n",
              "      <td>no</td>\n",
              "      <td>no</td>\n",
              "      <td>no</td>\n",
              "    </tr>\n",
              "    <tr>\n",
              "      <th>114</th>\n",
              "      <td>no</td>\n",
              "      <td>no</td>\n",
              "      <td>no</td>\n",
              "      <td>no</td>\n",
              "      <td>no</td>\n",
              "    </tr>\n",
              "  </tbody>\n",
              "</table>\n",
              "<p>115 rows × 5 columns</p>\n",
              "</div>\n",
              "      <button class=\"colab-df-convert\" onclick=\"convertToInteractive('df-5a70b15c-b483-411b-be02-7e09d61e810f')\"\n",
              "              title=\"Convert this dataframe to an interactive table.\"\n",
              "              style=\"display:none;\">\n",
              "        \n",
              "  <svg xmlns=\"http://www.w3.org/2000/svg\" height=\"24px\"viewBox=\"0 0 24 24\"\n",
              "       width=\"24px\">\n",
              "    <path d=\"M0 0h24v24H0V0z\" fill=\"none\"/>\n",
              "    <path d=\"M18.56 5.44l.94 2.06.94-2.06 2.06-.94-2.06-.94-.94-2.06-.94 2.06-2.06.94zm-11 1L8.5 8.5l.94-2.06 2.06-.94-2.06-.94L8.5 2.5l-.94 2.06-2.06.94zm10 10l.94 2.06.94-2.06 2.06-.94-2.06-.94-.94-2.06-.94 2.06-2.06.94z\"/><path d=\"M17.41 7.96l-1.37-1.37c-.4-.4-.92-.59-1.43-.59-.52 0-1.04.2-1.43.59L10.3 9.45l-7.72 7.72c-.78.78-.78 2.05 0 2.83L4 21.41c.39.39.9.59 1.41.59.51 0 1.02-.2 1.41-.59l7.78-7.78 2.81-2.81c.8-.78.8-2.07 0-2.86zM5.41 20L4 18.59l7.72-7.72 1.47 1.35L5.41 20z\"/>\n",
              "  </svg>\n",
              "      </button>\n",
              "      \n",
              "  <style>\n",
              "    .colab-df-container {\n",
              "      display:flex;\n",
              "      flex-wrap:wrap;\n",
              "      gap: 12px;\n",
              "    }\n",
              "\n",
              "    .colab-df-convert {\n",
              "      background-color: #E8F0FE;\n",
              "      border: none;\n",
              "      border-radius: 50%;\n",
              "      cursor: pointer;\n",
              "      display: none;\n",
              "      fill: #1967D2;\n",
              "      height: 32px;\n",
              "      padding: 0 0 0 0;\n",
              "      width: 32px;\n",
              "    }\n",
              "\n",
              "    .colab-df-convert:hover {\n",
              "      background-color: #E2EBFA;\n",
              "      box-shadow: 0px 1px 2px rgba(60, 64, 67, 0.3), 0px 1px 3px 1px rgba(60, 64, 67, 0.15);\n",
              "      fill: #174EA6;\n",
              "    }\n",
              "\n",
              "    [theme=dark] .colab-df-convert {\n",
              "      background-color: #3B4455;\n",
              "      fill: #D2E3FC;\n",
              "    }\n",
              "\n",
              "    [theme=dark] .colab-df-convert:hover {\n",
              "      background-color: #434B5C;\n",
              "      box-shadow: 0px 1px 3px 1px rgba(0, 0, 0, 0.15);\n",
              "      filter: drop-shadow(0px 1px 2px rgba(0, 0, 0, 0.3));\n",
              "      fill: #FFFFFF;\n",
              "    }\n",
              "  </style>\n",
              "\n",
              "      <script>\n",
              "        const buttonEl =\n",
              "          document.querySelector('#df-5a70b15c-b483-411b-be02-7e09d61e810f button.colab-df-convert');\n",
              "        buttonEl.style.display =\n",
              "          google.colab.kernel.accessAllowed ? 'block' : 'none';\n",
              "\n",
              "        async function convertToInteractive(key) {\n",
              "          const element = document.querySelector('#df-5a70b15c-b483-411b-be02-7e09d61e810f');\n",
              "          const dataTable =\n",
              "            await google.colab.kernel.invokeFunction('convertToInteractive',\n",
              "                                                     [key], {});\n",
              "          if (!dataTable) return;\n",
              "\n",
              "          const docLinkHtml = 'Like what you see? Visit the ' +\n",
              "            '<a target=\"_blank\" href=https://colab.research.google.com/notebooks/data_table.ipynb>data table notebook</a>'\n",
              "            + ' to learn more about interactive tables.';\n",
              "          element.innerHTML = '';\n",
              "          dataTable['output_type'] = 'display_data';\n",
              "          await google.colab.output.renderOutput(dataTable, element);\n",
              "          const docLink = document.createElement('div');\n",
              "          docLink.innerHTML = docLinkHtml;\n",
              "          element.appendChild(docLink);\n",
              "        }\n",
              "      </script>\n",
              "    </div>\n",
              "  </div>\n",
              "  "
            ]
          },
          "metadata": {},
          "execution_count": 159
        }
      ]
    },
    {
      "cell_type": "code",
      "source": [
        "#A sabiendas que todos son de tipo si o no, lo mejor para agilizar este caso sería sustituir con el metodo de bfill o ffill, además de que sería el más\n",
        "#indicado también porque por lo general es de esperarse que los resultados se presenten muy cerca en el tiempo\n",
        "cual1[\"305_electricity_bill_store\"]=cual1[\"305_electricity_bill_store\"].fillna(method=\"ffill\")\n",
        "cual1[\"306_water_bill_store\"]=cual1[\"306_water_bill_store\"].fillna(method=\"ffill\")\n",
        "cual1[\"307_gas_bill_store\"]=cual1[\"307_gas_bill_store\"].fillna(method=\"ffill\")\n",
        "cual1[\"308_topups_in_store\"]=cual1[\"308_topups_in_store\"].fillna(method=\"bfill\")\n",
        "cual1[\"309_wiretransfers_in_store\"]=cual1[\"309_wiretransfers_in_store\"].fillna(method=\"bfill\")"
      ],
      "metadata": {
        "id": "ONwRea6Q0jyy"
      },
      "execution_count": 48,
      "outputs": []
    },
    {
      "cell_type": "code",
      "source": [
        "#Vamos verificando que los reaultados sean correctos, marcando todos los valores como no nulos o marcando 0 nulos con .info() o identificación de nulos respect.\n",
        "cual1.info()\n",
        "#Identificar valores nulos por columna\n",
        "#valores_nulos=cual1.isnull().sum()\n",
        "#valores_nulos"
      ],
      "metadata": {
        "colab": {
          "base_uri": "https://localhost:8080/"
        },
        "id": "JgCxSHvQ0xyg",
        "outputId": "599230ec-0e68-4e94-8654-c22396272266"
      },
      "execution_count": 160,
      "outputs": [
        {
          "output_type": "stream",
          "name": "stdout",
          "text": [
            "<class 'pandas.core.frame.DataFrame'>\n",
            "RangeIndex: 115 entries, 0 to 114\n",
            "Data columns (total 23 columns):\n",
            " #   Column                              Non-Null Count  Dtype \n",
            "---  ------                              --------------  ----- \n",
            " 0   _record_id                          115 non-null    object\n",
            " 1   _title                              115 non-null    object\n",
            " 2   _server_updated_at                  115 non-null    object\n",
            " 3   _updated_by                         115 non-null    object\n",
            " 4   _geometry                           115 non-null    object\n",
            " 5   282_payment_method_that_purchase    115 non-null    object\n",
            " 6   283_fulfill_needs                   115 non-null    object\n",
            " 7   237_distance_household_interviewee  115 non-null    object\n",
            " 8   299_means_transportation_consumer   115 non-null    object\n",
            " 9   301_electricity_bill                115 non-null    object\n",
            " 10  305_electricity_bill_store          115 non-null    object\n",
            " 11  302_water_bill                      115 non-null    object\n",
            " 12  306_water_bill_store                115 non-null    object\n",
            " 13  303_gas_bill                        115 non-null    object\n",
            " 14  307_gas_bill_store                  115 non-null    object\n",
            " 15  286_topups                          115 non-null    object\n",
            " 16  308_topups_in_store                 115 non-null    object\n",
            " 17  287_wire_transfers                  115 non-null    object\n",
            " 18  309_wiretransfers_in_store          115 non-null    object\n",
            " 19  320_other_services_in_store         115 non-null    object\n",
            " 20  240_gender_interviewee              115 non-null    object\n",
            " 21  indicate_the_type_of_store          115 non-null    object\n",
            " 22  name_of_the_store                   115 non-null    object\n",
            "dtypes: object(23)\n",
            "memory usage: 20.8+ KB\n"
          ]
        }
      ]
    },
    {
      "cell_type": "markdown",
      "source": [
        "De esta manera quedaron listas las columnas sin nulos, ahora se aplicara a las cuantitativas"
      ],
      "metadata": {
        "id": "7iwr1XVf3xrF"
      }
    },
    {
      "cell_type": "code",
      "source": [
        "cuant.info()\n",
        "#Con esto corroboramos que no hay ningun valor nulo en las columnas cuantitativas, por lo que ahora procederemos a identificar los outliers"
      ],
      "metadata": {
        "colab": {
          "base_uri": "https://localhost:8080/"
        },
        "id": "szNjOy2k36BU",
        "outputId": "4892918b-cc7b-498b-e87d-5c04225c372c"
      },
      "execution_count": 161,
      "outputs": [
        {
          "output_type": "stream",
          "name": "stdout",
          "text": [
            "<class 'pandas.core.frame.DataFrame'>\n",
            "RangeIndex: 115 entries, 0 to 114\n",
            "Data columns (total 9 columns):\n",
            " #   Column                               Non-Null Count  Dtype  \n",
            "---  ------                               --------------  -----  \n",
            " 0   _latitude                            115 non-null    float64\n",
            " 1   _longitude                           115 non-null    float64\n",
            " 2   238_frequency_buying_store           115 non-null    int64  \n",
            " 3   81_number_online_purchases_month     115 non-null    int64  \n",
            " 4   288_number_app_purchases_month       115 non-null    int64  \n",
            " 5   289_number_whatsapp_purchases_month  115 non-null    int64  \n",
            " 6   83_willingness_ultrafast_delivery    115 non-null    int64  \n",
            " 7   84_willingness_sameday_delivery      115 non-null    int64  \n",
            " 8   241_age_of_the_interviewee           115 non-null    int64  \n",
            "dtypes: float64(2), int64(7)\n",
            "memory usage: 8.2 KB\n"
          ]
        }
      ]
    },
    {
      "cell_type": "code",
      "source": [
        "cuant.head()\n",
        "#De acuerdo a la información que nos presenta, a todas menos la lalitud y longitud le podremos aplicar outliers pues ya que estos debemos estar concientes\n",
        "#que dentro del rango que estan, pueden variar ya que estamos tomando la información en puntos posiblemente muy diferentes de la ciudad\n",
        "#aclaro que la edad la tome como cuantitativa porque puede servir para analisis estadisticos de identificar el mayor publico consumidor o similar"
      ],
      "metadata": {
        "colab": {
          "base_uri": "https://localhost:8080/",
          "height": 270
        },
        "id": "sowJ283H4OsB",
        "outputId": "99be4c53-b03f-4877-b125-213a780f350d"
      },
      "execution_count": 162,
      "outputs": [
        {
          "output_type": "execute_result",
          "data": {
            "text/plain": [
              "   _latitude  _longitude  238_frequency_buying_store  \\\n",
              "0  19.059841  -98.234980                           1   \n",
              "1  19.058479  -98.233566                           1   \n",
              "2  19.062077  -98.230339                           1   \n",
              "3  19.055535  -98.232916                           1   \n",
              "4  19.059012  -98.232994                           1   \n",
              "\n",
              "   81_number_online_purchases_month  288_number_app_purchases_month  \\\n",
              "0                                 1                               0   \n",
              "1                                 1                               2   \n",
              "2                                 0                               0   \n",
              "3                                 2                               3   \n",
              "4                                 2                               5   \n",
              "\n",
              "   289_number_whatsapp_purchases_month  83_willingness_ultrafast_delivery  \\\n",
              "0                                    0                                  0   \n",
              "1                                    0                                 35   \n",
              "2                                    0                                 40   \n",
              "3                                    0                                  0   \n",
              "4                                    0                                  0   \n",
              "\n",
              "   84_willingness_sameday_delivery  241_age_of_the_interviewee  \n",
              "0                                0                          35  \n",
              "1                               50                          27  \n",
              "2                               25                          42  \n",
              "3                                0                          27  \n",
              "4                               50                          35  "
            ],
            "text/html": [
              "\n",
              "  <div id=\"df-c942a4f7-caa0-4ce1-a8f3-08990fa048ce\">\n",
              "    <div class=\"colab-df-container\">\n",
              "      <div>\n",
              "<style scoped>\n",
              "    .dataframe tbody tr th:only-of-type {\n",
              "        vertical-align: middle;\n",
              "    }\n",
              "\n",
              "    .dataframe tbody tr th {\n",
              "        vertical-align: top;\n",
              "    }\n",
              "\n",
              "    .dataframe thead th {\n",
              "        text-align: right;\n",
              "    }\n",
              "</style>\n",
              "<table border=\"1\" class=\"dataframe\">\n",
              "  <thead>\n",
              "    <tr style=\"text-align: right;\">\n",
              "      <th></th>\n",
              "      <th>_latitude</th>\n",
              "      <th>_longitude</th>\n",
              "      <th>238_frequency_buying_store</th>\n",
              "      <th>81_number_online_purchases_month</th>\n",
              "      <th>288_number_app_purchases_month</th>\n",
              "      <th>289_number_whatsapp_purchases_month</th>\n",
              "      <th>83_willingness_ultrafast_delivery</th>\n",
              "      <th>84_willingness_sameday_delivery</th>\n",
              "      <th>241_age_of_the_interviewee</th>\n",
              "    </tr>\n",
              "  </thead>\n",
              "  <tbody>\n",
              "    <tr>\n",
              "      <th>0</th>\n",
              "      <td>19.059841</td>\n",
              "      <td>-98.234980</td>\n",
              "      <td>1</td>\n",
              "      <td>1</td>\n",
              "      <td>0</td>\n",
              "      <td>0</td>\n",
              "      <td>0</td>\n",
              "      <td>0</td>\n",
              "      <td>35</td>\n",
              "    </tr>\n",
              "    <tr>\n",
              "      <th>1</th>\n",
              "      <td>19.058479</td>\n",
              "      <td>-98.233566</td>\n",
              "      <td>1</td>\n",
              "      <td>1</td>\n",
              "      <td>2</td>\n",
              "      <td>0</td>\n",
              "      <td>35</td>\n",
              "      <td>50</td>\n",
              "      <td>27</td>\n",
              "    </tr>\n",
              "    <tr>\n",
              "      <th>2</th>\n",
              "      <td>19.062077</td>\n",
              "      <td>-98.230339</td>\n",
              "      <td>1</td>\n",
              "      <td>0</td>\n",
              "      <td>0</td>\n",
              "      <td>0</td>\n",
              "      <td>40</td>\n",
              "      <td>25</td>\n",
              "      <td>42</td>\n",
              "    </tr>\n",
              "    <tr>\n",
              "      <th>3</th>\n",
              "      <td>19.055535</td>\n",
              "      <td>-98.232916</td>\n",
              "      <td>1</td>\n",
              "      <td>2</td>\n",
              "      <td>3</td>\n",
              "      <td>0</td>\n",
              "      <td>0</td>\n",
              "      <td>0</td>\n",
              "      <td>27</td>\n",
              "    </tr>\n",
              "    <tr>\n",
              "      <th>4</th>\n",
              "      <td>19.059012</td>\n",
              "      <td>-98.232994</td>\n",
              "      <td>1</td>\n",
              "      <td>2</td>\n",
              "      <td>5</td>\n",
              "      <td>0</td>\n",
              "      <td>0</td>\n",
              "      <td>50</td>\n",
              "      <td>35</td>\n",
              "    </tr>\n",
              "  </tbody>\n",
              "</table>\n",
              "</div>\n",
              "      <button class=\"colab-df-convert\" onclick=\"convertToInteractive('df-c942a4f7-caa0-4ce1-a8f3-08990fa048ce')\"\n",
              "              title=\"Convert this dataframe to an interactive table.\"\n",
              "              style=\"display:none;\">\n",
              "        \n",
              "  <svg xmlns=\"http://www.w3.org/2000/svg\" height=\"24px\"viewBox=\"0 0 24 24\"\n",
              "       width=\"24px\">\n",
              "    <path d=\"M0 0h24v24H0V0z\" fill=\"none\"/>\n",
              "    <path d=\"M18.56 5.44l.94 2.06.94-2.06 2.06-.94-2.06-.94-.94-2.06-.94 2.06-2.06.94zm-11 1L8.5 8.5l.94-2.06 2.06-.94-2.06-.94L8.5 2.5l-.94 2.06-2.06.94zm10 10l.94 2.06.94-2.06 2.06-.94-2.06-.94-.94-2.06-.94 2.06-2.06.94z\"/><path d=\"M17.41 7.96l-1.37-1.37c-.4-.4-.92-.59-1.43-.59-.52 0-1.04.2-1.43.59L10.3 9.45l-7.72 7.72c-.78.78-.78 2.05 0 2.83L4 21.41c.39.39.9.59 1.41.59.51 0 1.02-.2 1.41-.59l7.78-7.78 2.81-2.81c.8-.78.8-2.07 0-2.86zM5.41 20L4 18.59l7.72-7.72 1.47 1.35L5.41 20z\"/>\n",
              "  </svg>\n",
              "      </button>\n",
              "      \n",
              "  <style>\n",
              "    .colab-df-container {\n",
              "      display:flex;\n",
              "      flex-wrap:wrap;\n",
              "      gap: 12px;\n",
              "    }\n",
              "\n",
              "    .colab-df-convert {\n",
              "      background-color: #E8F0FE;\n",
              "      border: none;\n",
              "      border-radius: 50%;\n",
              "      cursor: pointer;\n",
              "      display: none;\n",
              "      fill: #1967D2;\n",
              "      height: 32px;\n",
              "      padding: 0 0 0 0;\n",
              "      width: 32px;\n",
              "    }\n",
              "\n",
              "    .colab-df-convert:hover {\n",
              "      background-color: #E2EBFA;\n",
              "      box-shadow: 0px 1px 2px rgba(60, 64, 67, 0.3), 0px 1px 3px 1px rgba(60, 64, 67, 0.15);\n",
              "      fill: #174EA6;\n",
              "    }\n",
              "\n",
              "    [theme=dark] .colab-df-convert {\n",
              "      background-color: #3B4455;\n",
              "      fill: #D2E3FC;\n",
              "    }\n",
              "\n",
              "    [theme=dark] .colab-df-convert:hover {\n",
              "      background-color: #434B5C;\n",
              "      box-shadow: 0px 1px 3px 1px rgba(0, 0, 0, 0.15);\n",
              "      filter: drop-shadow(0px 1px 2px rgba(0, 0, 0, 0.3));\n",
              "      fill: #FFFFFF;\n",
              "    }\n",
              "  </style>\n",
              "\n",
              "      <script>\n",
              "        const buttonEl =\n",
              "          document.querySelector('#df-c942a4f7-caa0-4ce1-a8f3-08990fa048ce button.colab-df-convert');\n",
              "        buttonEl.style.display =\n",
              "          google.colab.kernel.accessAllowed ? 'block' : 'none';\n",
              "\n",
              "        async function convertToInteractive(key) {\n",
              "          const element = document.querySelector('#df-c942a4f7-caa0-4ce1-a8f3-08990fa048ce');\n",
              "          const dataTable =\n",
              "            await google.colab.kernel.invokeFunction('convertToInteractive',\n",
              "                                                     [key], {});\n",
              "          if (!dataTable) return;\n",
              "\n",
              "          const docLinkHtml = 'Like what you see? Visit the ' +\n",
              "            '<a target=\"_blank\" href=https://colab.research.google.com/notebooks/data_table.ipynb>data table notebook</a>'\n",
              "            + ' to learn more about interactive tables.';\n",
              "          element.innerHTML = '';\n",
              "          dataTable['output_type'] = 'display_data';\n",
              "          await google.colab.output.renderOutput(dataTable, element);\n",
              "          const docLink = document.createElement('div');\n",
              "          docLink.innerHTML = docLinkHtml;\n",
              "          element.appendChild(docLink);\n",
              "        }\n",
              "      </script>\n",
              "    </div>\n",
              "  </div>\n",
              "  "
            ]
          },
          "metadata": {},
          "execution_count": 162
        }
      ]
    },
    {
      "cell_type": "code",
      "source": [
        "#Filtro por columnas dejando fuera las 2 mencionadas anteriormente\n",
        "cuant1=cuant.iloc[ : , 2:9]\n",
        "cuant1"
      ],
      "metadata": {
        "id": "AsPhvu154uGW"
      },
      "execution_count": null,
      "outputs": []
    },
    {
      "cell_type": "code",
      "source": [
        "#Realizamos diagrama de caja o bigote de cada columna del dataframe\n",
        "fig = plt.figure(figsize =(15, 8))\n",
        "cuant1.plot(kind='box', vert=False)\n",
        "plt.title(\"Valores Atípicos del Dataframe\")\n",
        "plt.show() #dibujamos el diagrama"
      ],
      "metadata": {
        "colab": {
          "base_uri": "https://localhost:8080/",
          "height": 298
        },
        "id": "_5gL5JAw9DtZ",
        "outputId": "f16a96d4-ba1a-4b84-b31e-496611912477"
      },
      "execution_count": 163,
      "outputs": [
        {
          "output_type": "display_data",
          "data": {
            "text/plain": [
              "<Figure size 1080x576 with 0 Axes>"
            ]
          },
          "metadata": {}
        },
        {
          "output_type": "display_data",
          "data": {
            "text/plain": [
              "<Figure size 432x288 with 1 Axes>"
            ],
            "image/png": "[encoded data removed]"
          },
          "metadata": {
            "needs_background": "light"
          }
        }
      ]
    },
    {
      "cell_type": "code",
      "source": [
        "#Método aplicando desviación estandar. Encuentro los valores extremos || Use este metodo ya que estamos hablando de valores de la vida real por lo que de\n",
        "#antemano sabemos que deben o pueden variar mucho entre sí y para tener una mayor consideración con el número final de datos\n",
        "y=cuant1\n",
        "Limite_Superior= y.mean() + 3*y.std()\n",
        "Limite_Inferior= y.mean() - 3*y.std()\n",
        "print(\"Limite superior permitido: \", Limite_Superior)\n",
        "print(\"Limite inferior permitido: \", Limite_Inferior)"
      ],
      "metadata": {
        "id": "oIXyNd2d6Ukm"
      },
      "execution_count": null,
      "outputs": []
    },
    {
      "cell_type": "code",
      "source": [
        "#Encontramos Ouliers del Dataframe\n",
        "outliers=cuant1[(y>Limite_Superior)|(y<Limite_Inferior)]\n",
        "outliers"
      ],
      "metadata": {
        "id": "CAS3qRcL7h89"
      },
      "execution_count": null,
      "outputs": []
    },
    {
      "cell_type": "code",
      "source": [
        "#Obtenemos datos y los outliers se convierten en nulos en el DataFrame\n",
        "cuant2= cuant1[(y<=Limite_Superior)&(y>=Limite_Inferior)]\n",
        "cuant2"
      ],
      "metadata": {
        "id": "KhhGm_Eu_dHe"
      },
      "execution_count": null,
      "outputs": []
    },
    {
      "cell_type": "code",
      "source": [
        "#Corroboramos valores nulos del dataframe4 || Observamos que son pocos gracias a la tecnica de desviación, por lo que ahora sería bueno sustituir con medidas\n",
        "#de tendencia central\n",
        "valores_nulos=cuant2.isnull().sum()\n",
        "valores_nulos"
      ],
      "metadata": {
        "colab": {
          "base_uri": "https://localhost:8080/"
        },
        "id": "HkMELBmW74eW",
        "outputId": "e6fefbcd-81b2-426a-b5e6-c6788b772640"
      },
      "execution_count": 169,
      "outputs": [
        {
          "output_type": "execute_result",
          "data": {
            "text/plain": [
              "238_frequency_buying_store             2\n",
              "81_number_online_purchases_month       2\n",
              "288_number_app_purchases_month         1\n",
              "289_number_whatsapp_purchases_month    1\n",
              "83_willingness_ultrafast_delivery      2\n",
              "84_willingness_sameday_delivery        2\n",
              "241_age_of_the_interviewee             1\n",
              "dtype: int64"
            ]
          },
          "metadata": {},
          "execution_count": 169
        }
      ]
    },
    {
      "cell_type": "code",
      "source": [
        "#Sustituir valores nulos con promedio o mediana\n",
        "cuant2[\"238_frequency_buying_store\"]=cuant2[\"238_frequency_buying_store\"].fillna(round(cuant2[\"238_frequency_buying_store\"].mean(),1))\n",
        "cuant2[\"81_number_online_purchases_month\"]=cuant2[\"81_number_online_purchases_month\"].fillna(round(cuant2[\"81_number_online_purchases_month\"].mean(),1))\n",
        "cuant2[\"288_number_app_purchases_month\"]=cuant2[\"288_number_app_purchases_month\"].fillna(round(cuant2[\"288_number_app_purchases_month\"].mean(),1))\n",
        "cuant2[\"289_number_whatsapp_purchases_month\"]=cuant2[\"289_number_whatsapp_purchases_month\"].fillna(round(cuant2[\"289_number_whatsapp_purchases_month\"].median(),1))\n",
        "cuant2[\"83_willingness_ultrafast_delivery\"]=cuant2[\"83_willingness_ultrafast_delivery\"].fillna(round(cuant2[\"83_willingness_ultrafast_delivery\"].median(),1))\n",
        "cuant2[\"84_willingness_sameday_delivery\"]=cuant2[\"84_willingness_sameday_delivery\"].fillna(round(cuant2[\"84_willingness_sameday_delivery\"].median(),1))\n",
        "cuant2[\"241_age_of_the_interviewee\"]=cuant2[\"241_age_of_the_interviewee\"].fillna(round(cuant2[\"241_age_of_the_interviewee\"].mean(),1))"
      ],
      "metadata": {
        "id": "B7mYzxCkBBB-"
      },
      "execution_count": 170,
      "outputs": []
    },
    {
      "cell_type": "code",
      "source": [
        "valores_nulos=cuant2.isnull().sum()\n",
        "valores_nulos"
      ],
      "metadata": {
        "colab": {
          "base_uri": "https://localhost:8080/"
        },
        "id": "LSyAN_ypDQxX",
        "outputId": "f01d1eb4-38f0-40e2-b604-2f4217fdc29a"
      },
      "execution_count": 171,
      "outputs": [
        {
          "output_type": "execute_result",
          "data": {
            "text/plain": [
              "238_frequency_buying_store             0\n",
              "81_number_online_purchases_month       0\n",
              "288_number_app_purchases_month         0\n",
              "289_number_whatsapp_purchases_month    0\n",
              "83_willingness_ultrafast_delivery      0\n",
              "84_willingness_sameday_delivery        0\n",
              "241_age_of_the_interviewee             0\n",
              "dtype: int64"
            ]
          },
          "metadata": {},
          "execution_count": 171
        }
      ]
    },
    {
      "cell_type": "code",
      "source": [
        "#Filtro por columnas\n",
        "faltantes=cuant.iloc[ : , [0,1]]\n",
        "faltantes"
      ],
      "metadata": {
        "id": "UhrLH_0XFnai"
      },
      "execution_count": null,
      "outputs": []
    },
    {
      "cell_type": "code",
      "source": [
        "# Unimos las columnas faltantes con el dataframe de cuantitativas limpio\n",
        "cuantitativas= pd.concat([faltantes, cuant2], axis=1)\n",
        "cuantitativas.info()"
      ],
      "metadata": {
        "colab": {
          "base_uri": "https://localhost:8080/"
        },
        "id": "WAKHT2LsIqJo",
        "outputId": "cafdd9f9-87a6-49df-a5f4-7a893d4a5217"
      },
      "execution_count": 173,
      "outputs": [
        {
          "output_type": "stream",
          "name": "stdout",
          "text": [
            "<class 'pandas.core.frame.DataFrame'>\n",
            "RangeIndex: 115 entries, 0 to 114\n",
            "Data columns (total 9 columns):\n",
            " #   Column                               Non-Null Count  Dtype  \n",
            "---  ------                               --------------  -----  \n",
            " 0   _latitude                            115 non-null    float64\n",
            " 1   _longitude                           115 non-null    float64\n",
            " 2   238_frequency_buying_store           115 non-null    float64\n",
            " 3   81_number_online_purchases_month     115 non-null    float64\n",
            " 4   288_number_app_purchases_month       115 non-null    float64\n",
            " 5   289_number_whatsapp_purchases_month  115 non-null    float64\n",
            " 6   83_willingness_ultrafast_delivery    115 non-null    float64\n",
            " 7   84_willingness_sameday_delivery      115 non-null    float64\n",
            " 8   241_age_of_the_interviewee           115 non-null    float64\n",
            "dtypes: float64(9)\n",
            "memory usage: 8.2 KB\n"
          ]
        }
      ]
    },
    {
      "cell_type": "code",
      "source": [
        "ConsumerLimpio= pd.concat([cuantitativas, cual1], axis=1)\n",
        "ConsumerLimpio.info()"
      ],
      "metadata": {
        "colab": {
          "base_uri": "https://localhost:8080/"
        },
        "id": "MkusCaSZNE_O",
        "outputId": "5f831a8e-9ab1-4926-c6f2-b64780b91c77"
      },
      "execution_count": 158,
      "outputs": [
        {
          "output_type": "stream",
          "name": "stdout",
          "text": [
            "<class 'pandas.core.frame.DataFrame'>\n",
            "RangeIndex: 115 entries, 0 to 114\n",
            "Data columns (total 32 columns):\n",
            " #   Column                               Non-Null Count  Dtype  \n",
            "---  ------                               --------------  -----  \n",
            " 0   _latitude                            115 non-null    float64\n",
            " 1   _longitude                           115 non-null    float64\n",
            " 2   238_frequency_buying_store           115 non-null    float64\n",
            " 3   81_number_online_purchases_month     115 non-null    float64\n",
            " 4   288_number_app_purchases_month       115 non-null    float64\n",
            " 5   289_number_whatsapp_purchases_month  115 non-null    float64\n",
            " 6   83_willingness_ultrafast_delivery    115 non-null    float64\n",
            " 7   84_willingness_sameday_delivery      115 non-null    float64\n",
            " 8   241_age_of_the_interviewee           115 non-null    float64\n",
            " 9   _record_id                           115 non-null    object \n",
            " 10  _title                               115 non-null    object \n",
            " 11  _server_updated_at                   115 non-null    object \n",
            " 12  _updated_by                          115 non-null    object \n",
            " 13  _geometry                            115 non-null    object \n",
            " 14  282_payment_method_that_purchase     115 non-null    object \n",
            " 15  283_fulfill_needs                    115 non-null    object \n",
            " 16  237_distance_household_interviewee   115 non-null    object \n",
            " 17  299_means_transportation_consumer    115 non-null    object \n",
            " 18  301_electricity_bill                 115 non-null    object \n",
            " 19  305_electricity_bill_store           115 non-null    object \n",
            " 20  302_water_bill                       115 non-null    object \n",
            " 21  306_water_bill_store                 115 non-null    object \n",
            " 22  303_gas_bill                         115 non-null    object \n",
            " 23  307_gas_bill_store                   115 non-null    object \n",
            " 24  286_topups                           115 non-null    object \n",
            " 25  308_topups_in_store                  115 non-null    object \n",
            " 26  287_wire_transfers                   115 non-null    object \n",
            " 27  309_wiretransfers_in_store           115 non-null    object \n",
            " 28  320_other_services_in_store          115 non-null    object \n",
            " 29  240_gender_interviewee               115 non-null    object \n",
            " 30  indicate_the_type_of_store           115 non-null    object \n",
            " 31  name_of_the_store                    115 non-null    object \n",
            "dtypes: float64(9), object(23)\n",
            "memory usage: 28.9+ KB\n"
          ]
        }
      ]
    },
    {
      "cell_type": "markdown",
      "source": [
        "Hay que aclarar que el dataframe ya no tiene el mismo tamaño pues recordemos que eliminamos 4 variables que no eran relevantes por su tamaño e información sin forma"
      ],
      "metadata": {
        "id": "JsxhT1YLPOZk"
      }
    },
    {
      "cell_type": "code",
      "source": [
        "#Corroboramos valores nulos en todo el dataframe\n",
        "valores_nulos=ConsumerLimpio.isnull().sum().sum()\n",
        "valores_nulos"
      ],
      "metadata": {
        "colab": {
          "base_uri": "https://localhost:8080/"
        },
        "id": "uAxTA20KNe2b",
        "outputId": "945bb157-c02d-4a2e-d1f4-0690d2242e78"
      },
      "execution_count": 174,
      "outputs": [
        {
          "output_type": "execute_result",
          "data": {
            "text/plain": [
              "0"
            ]
          },
          "metadata": {},
          "execution_count": 174
        }
      ]
    },
    {
      "cell_type": "code",
      "source": [
        "#Convertir DataFrame a CSV\n",
        "ConsumerLimpio.to_csv(\"ConsumerLimpio.csv\")"
      ],
      "metadata": {
        "id": "QEbK2dQtNw0f"
      },
      "execution_count": 175,
      "outputs": []
    },
    {
      "cell_type": "code",
      "source": [
        "#descargar archivo filtrado en csv\n",
        "from google.colab import files \n",
        "files.download(\"ConsumerLimpio.csv\")"
      ],
      "metadata": {
        "colab": {
          "base_uri": "https://localhost:8080/",
          "height": 17
        },
        "id": "Z1LRlRfxN3h5",
        "outputId": "2f53101b-1b09-4796-b3fe-582555490341"
      },
      "execution_count": 176,
      "outputs": [
        {
          "output_type": "display_data",
          "data": {
            "text/plain": [
              "<IPython.core.display.Javascript object>"
            ],
            "application/javascript": [
              "\n",
              "    async function download(id, filename, size) {\n",
              "      if (!google.colab.kernel.accessAllowed) {\n",
              "        return;\n",
              "      }\n",
              "      const div = document.createElement('div');\n",
              "      const label = document.createElement('label');\n",
              "      label.textContent = `Downloading \"${filename}\": `;\n",
              "      div.appendChild(label);\n",
              "      const progress = document.createElement('progress');\n",
              "      progress.max = size;\n",
              "      div.appendChild(progress);\n",
              "      document.body.appendChild(div);\n",
              "\n",
              "      const buffers = [];\n",
              "      let downloaded = 0;\n",
              "\n",
              "      const channel = await google.colab.kernel.comms.open(id);\n",
              "      // Send a message to notify the kernel that we're ready.\n",
              "      channel.send({})\n",
              "\n",
              "      for await (const message of channel.messages) {\n",
              "        // Send a message to notify the kernel that we're ready.\n",
              "        channel.send({})\n",
              "        if (message.buffers) {\n",
              "          for (const buffer of message.buffers) {\n",
              "            buffers.push(buffer);\n",
              "            downloaded += buffer.byteLength;\n",
              "            progress.value = downloaded;\n",
              "          }\n",
              "        }\n",
              "      }\n",
              "      const blob = new Blob(buffers, {type: 'application/binary'});\n",
              "      const a = document.createElement('a');\n",
              "      a.href = window.URL.createObjectURL(blob);\n",
              "      a.download = filename;\n",
              "      div.appendChild(a);\n",
              "      a.click();\n",
              "      div.remove();\n",
              "    }\n",
              "  "
            ]
          },
          "metadata": {}
        },
        {
          "output_type": "display_data",
          "data": {
            "text/plain": [
              "<IPython.core.display.Javascript object>"
            ],
            "application/javascript": [
              "download(\"download_729ce2fd-5e30-4cbe-915f-e234fb93fa6a\", \"ConsumerLimpio.csv\", 50067)"
            ]
          },
          "metadata": {}
        }
      ]
    }
  ]
}